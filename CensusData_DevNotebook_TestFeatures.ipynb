{
 "cells": [
  {
   "cell_type": "markdown",
   "metadata": {},
   "source": [
    "Author: Megan Tabbutt\n",
    "\n",
    "Latest version: 03_25_21\n",
    "\n",
    "Notes:\n",
    "\n",
    "Resources: \n",
    "\n",
    "- PyPI: https://pypi.org/project/CensusData/\n",
    "- Documentation: https://jtleider.github.io/censusdata/\n",
    "- County level data: https://www.census.gov/geographies/mapping-files/time-series/geo/carto-boundary-file.html\n",
    "\n",
    "\n",
    "Datasets:\n",
    "\n",
    "    ACS 5-year estimates (2005-2009 to 2015-2019),\n",
    "    ACS 1-year estimates (2012-2019),\n",
    "    ACS 3-year estimates (2010-2012 to 2011-2013),\n",
    "    ACS 1-year supplemental estimates (2014-2019),\n",
    "    Census 2010 Summary File 1.\n"
   ]
  },
  {
   "cell_type": "markdown",
   "metadata": {},
   "source": [
    "## Questions:\n",
    "\n",
    "_1. What assumptions can we make to not do an $n^2+$ type loop on finding counties?_\n",
    "- Can we assume it is confined to one state? \n",
    "- Will finding NSEW points to check for counties be sufficent? Add a middle point too? \n",
    "\n",
    "_2. What resolution do we need for the county level data?_\n"
   ]
  },
  {
   "cell_type": "code",
   "execution_count": 1,
   "metadata": {},
   "outputs": [
    {
     "data": {
      "text/html": [
       "<style>.container { width:90% !important; }</style>"
      ],
      "text/plain": [
       "<IPython.core.display.HTML object>"
      ]
     },
     "metadata": {},
     "output_type": "display_data"
    }
   ],
   "source": [
    "# Make Jupyter Notebook full screen \n",
    "from IPython.core.display import display, HTML\n",
    "display(HTML(\"<style>.container { width:90% !important; }</style>\"))"
   ]
  },
  {
   "cell_type": "code",
   "execution_count": 2,
   "metadata": {},
   "outputs": [],
   "source": [
    "import censusdata\n",
    "import pandas as pd\n",
    "import geopandas\n",
    "from shapely.geometry import Point\n",
    "import matplotlib.pyplot as plt"
   ]
  },
  {
   "cell_type": "markdown",
   "metadata": {},
   "source": [
    "# Feature #1: connect gtfs files to pull counties from CensusData:"
   ]
  },
  {
   "cell_type": "code",
   "execution_count": 3,
   "metadata": {},
   "outputs": [
    {
     "data": {
      "text/html": [
       "<div>\n",
       "<style scoped>\n",
       "    .dataframe tbody tr th:only-of-type {\n",
       "        vertical-align: middle;\n",
       "    }\n",
       "\n",
       "    .dataframe tbody tr th {\n",
       "        vertical-align: top;\n",
       "    }\n",
       "\n",
       "    .dataframe thead th {\n",
       "        text-align: right;\n",
       "    }\n",
       "</style>\n",
       "<table border=\"1\" class=\"dataframe\">\n",
       "  <thead>\n",
       "    <tr style=\"text-align: right;\">\n",
       "      <th></th>\n",
       "      <th>stop_id</th>\n",
       "      <th>stop_code</th>\n",
       "      <th>stop_name</th>\n",
       "      <th>stop_desc</th>\n",
       "      <th>stop_lat</th>\n",
       "      <th>stop_lon</th>\n",
       "      <th>agency_id</th>\n",
       "      <th>jurisdiction_id</th>\n",
       "      <th>location_type</th>\n",
       "      <th>parent_station</th>\n",
       "      <th>relative_position</th>\n",
       "      <th>cardinal_direction</th>\n",
       "      <th>wheelchair_boarding</th>\n",
       "      <th>primary_street</th>\n",
       "      <th>address_range</th>\n",
       "      <th>cross_location</th>\n",
       "    </tr>\n",
       "  </thead>\n",
       "  <tbody>\n",
       "    <tr>\n",
       "      <th>0</th>\n",
       "      <td>1662</td>\n",
       "      <td>1662</td>\n",
       "      <td>E Gorham &amp; N Blount (WB)</td>\n",
       "      <td>This stop (#1662) is westbound on the 698 bloc...</td>\n",
       "      <td>43.082455</td>\n",
       "      <td>-89.380990</td>\n",
       "      <td>MMT</td>\n",
       "      <td>CMAD</td>\n",
       "      <td>0</td>\n",
       "      <td>NaN</td>\n",
       "      <td>1</td>\n",
       "      <td>270.0</td>\n",
       "      <td>1</td>\n",
       "      <td>E Gorham</td>\n",
       "      <td>698</td>\n",
       "      <td>N Blount</td>\n",
       "    </tr>\n",
       "    <tr>\n",
       "      <th>1</th>\n",
       "      <td>2437</td>\n",
       "      <td>2437</td>\n",
       "      <td>Toepfer &amp; Birch (NB)</td>\n",
       "      <td>This stop (#2437) is northbound on the 441 blo...</td>\n",
       "      <td>43.058547</td>\n",
       "      <td>-89.441740</td>\n",
       "      <td>MMT</td>\n",
       "      <td>CMAD</td>\n",
       "      <td>0</td>\n",
       "      <td>NaN</td>\n",
       "      <td>1</td>\n",
       "      <td>0.0</td>\n",
       "      <td>1</td>\n",
       "      <td>Toepfer</td>\n",
       "      <td>441</td>\n",
       "      <td>Birch</td>\n",
       "    </tr>\n",
       "    <tr>\n",
       "      <th>2</th>\n",
       "      <td>7931</td>\n",
       "      <td>7931</td>\n",
       "      <td>North Star &amp; Orion (NB)</td>\n",
       "      <td>This stop (#7931) is northbound on the 741 blo...</td>\n",
       "      <td>43.087951</td>\n",
       "      <td>-89.279047</td>\n",
       "      <td>MMT</td>\n",
       "      <td>CMAD</td>\n",
       "      <td>0</td>\n",
       "      <td>NaN</td>\n",
       "      <td>3</td>\n",
       "      <td>0.0</td>\n",
       "      <td>1</td>\n",
       "      <td>North Star</td>\n",
       "      <td>741</td>\n",
       "      <td>Orion</td>\n",
       "    </tr>\n",
       "  </tbody>\n",
       "</table>\n",
       "</div>"
      ],
      "text/plain": [
       "   stop_id stop_code                 stop_name  \\\n",
       "0     1662      1662  E Gorham & N Blount (WB)   \n",
       "1     2437      2437      Toepfer & Birch (NB)   \n",
       "2     7931      7931   North Star & Orion (NB)   \n",
       "\n",
       "                                           stop_desc   stop_lat   stop_lon  \\\n",
       "0  This stop (#1662) is westbound on the 698 bloc...  43.082455 -89.380990   \n",
       "1  This stop (#2437) is northbound on the 441 blo...  43.058547 -89.441740   \n",
       "2  This stop (#7931) is northbound on the 741 blo...  43.087951 -89.279047   \n",
       "\n",
       "  agency_id jurisdiction_id  location_type  parent_station  relative_position  \\\n",
       "0       MMT            CMAD              0             NaN                  1   \n",
       "1       MMT            CMAD              0             NaN                  1   \n",
       "2       MMT            CMAD              0             NaN                  3   \n",
       "\n",
       "   cardinal_direction  wheelchair_boarding primary_street  address_range  \\\n",
       "0               270.0                    1       E Gorham            698   \n",
       "1                 0.0                    1        Toepfer            441   \n",
       "2                 0.0                    1     North Star            741   \n",
       "\n",
       "  cross_location  \n",
       "0       N Blount  \n",
       "1          Birch  \n",
       "2          Orion  "
      ]
     },
     "execution_count": 3,
     "metadata": {},
     "output_type": "execute_result"
    }
   ],
   "source": [
    "# Pull in the latitude and longitude from gtfs data \n",
    "gtfs_data_path = \"data/mmt_gtfs/\"\n",
    "lat_lon_file = 'stops.csv'\n",
    "lat_lon_df = pd.read_csv(gtfs_data_path + lat_lon_file)\n",
    "lat_lon_df.head(3)"
   ]
  },
  {
   "cell_type": "markdown",
   "metadata": {},
   "source": [
    "### make into a geoDF if you want to plot below to check \n",
    "gdf = geopandas.GeoDataFrame(lat_lon_df, geometry=geopandas.points_from_xy(lat_lon_df.shape_pt_lon, lat_lon_df.shape_pt_lat))\n",
    "gdf.head(3)"
   ]
  },
  {
   "cell_type": "code",
   "execution_count": 4,
   "metadata": {},
   "outputs": [
    {
     "data": {
      "text/plain": [
       "[(-89.38099, 43.082454999999996)]"
      ]
     },
     "execution_count": 4,
     "metadata": {},
     "output_type": "execute_result"
    }
   ],
   "source": [
    "# Convert to shapely point objects in tuples\n",
    "ID_points = [Point(lat_lon_df['stop_lon'][i], lat_lon_df['stop_lat'][i]) for i in range(len(lat_lon_df))]\n",
    "ID_points[0].coords[:]"
   ]
  },
  {
   "cell_type": "markdown",
   "metadata": {},
   "source": [
    "### Trying to reduce the $n^2$ problem\n",
    "\n",
    "Sol 1: find the NESW farthest points, if all inside the same county you are good. WRONG - logic error. \n",
    "\n",
    "Sol 2: What I am doing below, write description. "
   ]
  },
  {
   "cell_type": "code",
   "execution_count": 5,
   "metadata": {},
   "outputs": [
    {
     "data": {
      "text/html": [
       "<div>\n",
       "<style scoped>\n",
       "    .dataframe tbody tr th:only-of-type {\n",
       "        vertical-align: middle;\n",
       "    }\n",
       "\n",
       "    .dataframe tbody tr th {\n",
       "        vertical-align: top;\n",
       "    }\n",
       "\n",
       "    .dataframe thead th {\n",
       "        text-align: right;\n",
       "    }\n",
       "</style>\n",
       "<table border=\"1\" class=\"dataframe\">\n",
       "  <thead>\n",
       "    <tr style=\"text-align: right;\">\n",
       "      <th></th>\n",
       "      <th>STATEFP</th>\n",
       "      <th>COUNTYFP</th>\n",
       "      <th>COUNTYNS</th>\n",
       "      <th>AFFGEOID</th>\n",
       "      <th>GEOID</th>\n",
       "      <th>NAME</th>\n",
       "      <th>LSAD</th>\n",
       "      <th>ALAND</th>\n",
       "      <th>AWATER</th>\n",
       "      <th>geometry</th>\n",
       "    </tr>\n",
       "  </thead>\n",
       "  <tbody>\n",
       "    <tr>\n",
       "      <th>0</th>\n",
       "      <td>37</td>\n",
       "      <td>017</td>\n",
       "      <td>01026336</td>\n",
       "      <td>0500000US37017</td>\n",
       "      <td>37017</td>\n",
       "      <td>Bladen</td>\n",
       "      <td>06</td>\n",
       "      <td>2265887723</td>\n",
       "      <td>33010866</td>\n",
       "      <td>POLYGON ((-78.90200 34.83527, -78.79960 34.850...</td>\n",
       "    </tr>\n",
       "    <tr>\n",
       "      <th>1</th>\n",
       "      <td>37</td>\n",
       "      <td>167</td>\n",
       "      <td>01025844</td>\n",
       "      <td>0500000US37167</td>\n",
       "      <td>37167</td>\n",
       "      <td>Stanly</td>\n",
       "      <td>06</td>\n",
       "      <td>1023370459</td>\n",
       "      <td>25242751</td>\n",
       "      <td>POLYGON ((-80.49737 35.20210, -80.29542 35.502...</td>\n",
       "    </tr>\n",
       "    <tr>\n",
       "      <th>2</th>\n",
       "      <td>39</td>\n",
       "      <td>153</td>\n",
       "      <td>01074088</td>\n",
       "      <td>0500000US39153</td>\n",
       "      <td>39153</td>\n",
       "      <td>Summit</td>\n",
       "      <td>06</td>\n",
       "      <td>1069181981</td>\n",
       "      <td>18958267</td>\n",
       "      <td>POLYGON ((-81.68699 41.13596, -81.68495 41.277...</td>\n",
       "    </tr>\n",
       "  </tbody>\n",
       "</table>\n",
       "</div>"
      ],
      "text/plain": [
       "  STATEFP COUNTYFP  COUNTYNS        AFFGEOID  GEOID    NAME LSAD       ALAND  \\\n",
       "0      37      017  01026336  0500000US37017  37017  Bladen   06  2265887723   \n",
       "1      37      167  01025844  0500000US37167  37167  Stanly   06  1023370459   \n",
       "2      39      153  01074088  0500000US39153  39153  Summit   06  1069181981   \n",
       "\n",
       "     AWATER                                           geometry  \n",
       "0  33010866  POLYGON ((-78.90200 34.83527, -78.79960 34.850...  \n",
       "1  25242751  POLYGON ((-80.49737 35.20210, -80.29542 35.502...  \n",
       "2  18958267  POLYGON ((-81.68699 41.13596, -81.68495 41.277...  "
      ]
     },
     "execution_count": 5,
     "metadata": {},
     "output_type": "execute_result"
    }
   ],
   "source": [
    "# traverse the whole list? or will it be confined to one state? \n",
    "countyData = geopandas.read_file(\"/Users/megantabbutt/Downloads/cb_2018_us_county_20m/cb_2018_us_county_20m.shp\")\n",
    "countyData.head(3)"
   ]
  },
  {
   "cell_type": "code",
   "execution_count": 6,
   "metadata": {},
   "outputs": [
    {
     "name": "stdout",
     "output_type": "stream",
     "text": [
      "Dane  = Starting County\n",
      "55  = Starting State\n",
      "2135\n",
      "\n"
     ]
    },
    {
     "data": {
      "text/plain": [
       "0"
      ]
     },
     "execution_count": 6,
     "metadata": {},
     "output_type": "execute_result"
    }
   ],
   "source": [
    "uniquePoints = ID_points.copy()\n",
    "counties = []\n",
    "\n",
    "startingPoint = uniquePoints[0]\n",
    "startingPoint\n",
    "\n",
    "for county in countyData.iterrows():\n",
    "    if county[1]['geometry'].contains(startingPoint):\n",
    "        startingCounty = county[1]['NAME']\n",
    "        startingState = county[1]['STATEFP']\n",
    "        print(startingCounty, \" = Starting County\")\n",
    "        print(startingState, \" = Starting State\")\n",
    "        \n",
    "stateDF = countyData[countyData['STATEFP'] == startingState]\n",
    "countyDF = stateDF[stateDF['NAME'] == startingCounty]\n",
    "\n",
    "print(len(uniquePoints))\n",
    "\n",
    "# Need to make this piece of code work!\n",
    "remainingPoints = []\n",
    "if len(counties) >= 0:\n",
    "    for point in uniquePoints:\n",
    "        for county in countyDF.iterrows():\n",
    "            if county[1]['geometry'].contains(point):\n",
    "                if county[1]['NAME'] not in counties:\n",
    "                    counties.append(county[1]['NAME'])\n",
    "            else:\n",
    "                remainingPoints.append(point)\n",
    "            break\n",
    "   \n",
    "# FIX THIS CODE\n",
    "if remainingPoints != 0:\n",
    "    print()\n",
    "    \n",
    "    \n",
    "len(remainingPoints)"
   ]
  },
  {
   "cell_type": "code",
   "execution_count": null,
   "metadata": {},
   "outputs": [],
   "source": []
  }
 ],
 "metadata": {
  "kernelspec": {
   "display_name": "Python 3",
   "language": "python",
   "name": "python3"
  },
  "language_info": {
   "codemirror_mode": {
    "name": "ipython",
    "version": 3
   },
   "file_extension": ".py",
   "mimetype": "text/x-python",
   "name": "python",
   "nbconvert_exporter": "python",
   "pygments_lexer": "ipython3",
   "version": "3.7.2"
  }
 },
 "nbformat": 4,
 "nbformat_minor": 2
}
