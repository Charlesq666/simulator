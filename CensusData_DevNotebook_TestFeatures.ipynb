{
 "cells": [
  {
   "cell_type": "markdown",
   "metadata": {},
   "source": [
    "Author: Megan Tabbutt\n",
    "\n",
    "Latest version: 03_25_21\n",
    "\n",
    "Notes:\n",
    "\n",
    "Resources: \n",
    "\n",
    "- PyPI: https://pypi.org/project/CensusData/\n",
    "- Documentation: https://jtleider.github.io/censusdata/\n",
    "- County level data: https://www.census.gov/geographies/mapping-files/time-series/geo/carto-boundary-file.html\n",
    "\n",
    "\n",
    "Datasets:\n",
    "\n",
    "    ACS 5-year estimates (2005-2009 to 2015-2019),\n",
    "    ACS 1-year estimates (2012-2019),\n",
    "    ACS 3-year estimates (2010-2012 to 2011-2013),\n",
    "    ACS 1-year supplemental estimates (2014-2019),\n",
    "    Census 2010 Summary File 1.\n"
   ]
  },
  {
   "cell_type": "markdown",
   "metadata": {},
   "source": [
    "## Questions:\n",
    "\n",
    "_1. What assumptions can we make to not do an $n^2+$ type loop on finding counties?_\n",
    "- Can we assume it is confined to one state? \n",
    "- Will finding NSEW points to check for counties be sufficent? Add a middle point too? \n",
    "\n",
    "_2. What resolution do we need for the county level data?_\n"
   ]
  },
  {
   "cell_type": "code",
   "execution_count": 2,
   "metadata": {},
   "outputs": [
    {
     "data": {
      "text/html": [
       "<style>.container { width:90% !important; }</style>"
      ],
      "text/plain": [
       "<IPython.core.display.HTML object>"
      ]
     },
     "metadata": {},
     "output_type": "display_data"
    }
   ],
   "source": [
    "# Make Jupyter Notebook full screen \n",
    "from IPython.core.display import display, HTML\n",
    "display(HTML(\"<style>.container { width:90% !important; }</style>\"))"
   ]
  },
  {
   "cell_type": "code",
   "execution_count": 3,
   "metadata": {},
   "outputs": [],
   "source": [
    "import censusdata\n",
    "import pandas as pd\n",
    "import geopandas\n",
    "from shapely.geometry import Point\n",
    "import matplotlib.pyplot as plt"
   ]
  },
  {
   "cell_type": "markdown",
   "metadata": {},
   "source": [
    "# Feature #1: connect gtfs files to pull counties from CensusData:"
   ]
  },
  {
   "cell_type": "code",
   "execution_count": 4,
   "metadata": {},
   "outputs": [
    {
     "data": {
      "text/html": [
       "<div>\n",
       "<style scoped>\n",
       "    .dataframe tbody tr th:only-of-type {\n",
       "        vertical-align: middle;\n",
       "    }\n",
       "\n",
       "    .dataframe tbody tr th {\n",
       "        vertical-align: top;\n",
       "    }\n",
       "\n",
       "    .dataframe thead th {\n",
       "        text-align: right;\n",
       "    }\n",
       "</style>\n",
       "<table border=\"1\" class=\"dataframe\">\n",
       "  <thead>\n",
       "    <tr style=\"text-align: right;\">\n",
       "      <th></th>\n",
       "      <th>shape_id</th>\n",
       "      <th>shape_code</th>\n",
       "      <th>shape_pt_lat</th>\n",
       "      <th>shape_pt_lon</th>\n",
       "      <th>shape_pt_sequence</th>\n",
       "      <th>shape_dist_traveled</th>\n",
       "    </tr>\n",
       "  </thead>\n",
       "  <tbody>\n",
       "    <tr>\n",
       "      <th>0</th>\n",
       "      <td>56620</td>\n",
       "      <td>2F</td>\n",
       "      <td>43.053972</td>\n",
       "      <td>-89.475246</td>\n",
       "      <td>1</td>\n",
       "      <td>0.0000</td>\n",
       "    </tr>\n",
       "    <tr>\n",
       "      <th>1</th>\n",
       "      <td>56620</td>\n",
       "      <td>2F</td>\n",
       "      <td>43.053967</td>\n",
       "      <td>-89.474976</td>\n",
       "      <td>2</td>\n",
       "      <td>0.0130</td>\n",
       "    </tr>\n",
       "    <tr>\n",
       "      <th>2</th>\n",
       "      <td>56620</td>\n",
       "      <td>2F</td>\n",
       "      <td>43.053933</td>\n",
       "      <td>-89.474855</td>\n",
       "      <td>3</td>\n",
       "      <td>0.0198</td>\n",
       "    </tr>\n",
       "  </tbody>\n",
       "</table>\n",
       "</div>"
      ],
      "text/plain": [
       "   shape_id shape_code  shape_pt_lat  shape_pt_lon  shape_pt_sequence  \\\n",
       "0     56620         2F     43.053972    -89.475246                  1   \n",
       "1     56620         2F     43.053967    -89.474976                  2   \n",
       "2     56620         2F     43.053933    -89.474855                  3   \n",
       "\n",
       "   shape_dist_traveled  \n",
       "0               0.0000  \n",
       "1               0.0130  \n",
       "2               0.0198  "
      ]
     },
     "execution_count": 4,
     "metadata": {},
     "output_type": "execute_result"
    }
   ],
   "source": [
    "# Pull in the latitude and longitude from gtfs data \n",
    "gtfs_data_path = \"data/mmt_gtfs/\"\n",
    "lat_lon_file = 'shapes.csv'\n",
    "lat_lon_df = pd.read_csv(gtfs_data_path + lat_lon_file)\n",
    "lat_lon_df.head(3)"
   ]
  },
  {
   "cell_type": "markdown",
   "metadata": {},
   "source": [
    "### make into a geoDF if you want to plot below to check \n",
    "gdf = geopandas.GeoDataFrame(lat_lon_df, geometry=geopandas.points_from_xy(lat_lon_df.shape_pt_lon, lat_lon_df.shape_pt_lat))\n",
    "gdf.head(3)"
   ]
  },
  {
   "cell_type": "code",
   "execution_count": 37,
   "metadata": {},
   "outputs": [
    {
     "data": {
      "text/plain": [
       "[(-89.475246, 43.053971999999995)]"
      ]
     },
     "execution_count": 37,
     "metadata": {},
     "output_type": "execute_result"
    }
   ],
   "source": [
    "# Convert to shapely point objects in tuples\n",
    "ID_points = [Point(lat_lon_df['shape_pt_lon'][i], lat_lon_df['shape_pt_lat'][i]) for i in range(len(lat_lon_df))]\n",
    "ID_points[0].coords[:]"
   ]
  },
  {
   "cell_type": "markdown",
   "metadata": {},
   "source": [
    "### Trying to reduce the $n^2$ problem"
   ]
  },
  {
   "cell_type": "code",
   "execution_count": 38,
   "metadata": {},
   "outputs": [],
   "source": [
    "# Find the farthest points to check if multiple counties in the data exist\n",
    "farthest_points = [0, 0, 0, 0] # North, East, South, West\n",
    "(farthest_points[0], farthest_points[1], \n",
    " farthest_points[2], farthest_points[3]) = (ID_points[0], ID_points[0], ID_points[0], ID_points[0])\n",
    "\n",
    "for i in ID_points:\n",
    "    if i.y > farthest_points[0].y: # north\n",
    "        farthest_points[0] = i\n",
    "    if i.x > farthest_points[1].x: # east\n",
    "        farthest_points[1] = i\n",
    "    if i.y < farthest_points[2].y: # south\n",
    "        farthest_points[2] = i\n",
    "    if i.x < farthest_points[3].x: # west\n",
    "        farthest_points[3] = i"
   ]
  },
  {
   "cell_type": "code",
   "execution_count": 42,
   "metadata": {},
   "outputs": [
    {
     "name": "stdout",
     "output_type": "stream",
     "text": [
      "-89.25969 43.176925 north\n",
      "-89.24491 43.176425 east\n",
      "-89.55833299999999 42.987239 south\n",
      "-89.564628 42.997069 west\n"
     ]
    }
   ],
   "source": [
    "print(farthest_points[0].x, farthest_points[0].y, \"north\")\n",
    "print(farthest_points[1].x, farthest_points[1].y, \"east\")\n",
    "print(farthest_points[2].x, farthest_points[2].y, \"south\")\n",
    "print(farthest_points[3].x, farthest_points[3].y, \"west\") # \"west? I thought you said w-east...\""
   ]
  },
  {
   "cell_type": "markdown",
   "metadata": {},
   "source": [
    "### check that the points are doing the right things... YES\n",
    "far_points = pd.DataFrame(\n",
    "    {'Direction': ['North', 'East', 'South', 'West'],\n",
    "     'Latitude': [farthest_points[0].x, farthest_points[1].x, farthest_points[2].x, farthest_points[3].x],\n",
    "     'Longitude': [farthest_points[0].y, farthest_points[1].y, farthest_points[2].y, farthest_points[3].y]})\n",
    "\n",
    "far_points_gdf = geopandas.GeoDataFrame(far_points, geometry=geopandas.points_from_xy(far_points.Longitude, far_points.Latitude))\n",
    "\n",
    "fig, ax = plt.subplots(1, 1, figsize=(16, 16))\n",
    "gdf.plot(ax=ax)\n",
    "far_points_gdf.plot(ax=ax, color='orange', zorder=1)"
   ]
  },
  {
   "cell_type": "markdown",
   "metadata": {},
   "source": [
    "### Doing the $n^2$ problem: Totally not fesable... on the minutes scale... "
   ]
  },
  {
   "cell_type": "code",
   "execution_count": 55,
   "metadata": {},
   "outputs": [
    {
     "data": {
      "text/html": [
       "<div>\n",
       "<style scoped>\n",
       "    .dataframe tbody tr th:only-of-type {\n",
       "        vertical-align: middle;\n",
       "    }\n",
       "\n",
       "    .dataframe tbody tr th {\n",
       "        vertical-align: top;\n",
       "    }\n",
       "\n",
       "    .dataframe thead th {\n",
       "        text-align: right;\n",
       "    }\n",
       "</style>\n",
       "<table border=\"1\" class=\"dataframe\">\n",
       "  <thead>\n",
       "    <tr style=\"text-align: right;\">\n",
       "      <th></th>\n",
       "      <th>STATEFP</th>\n",
       "      <th>COUNTYFP</th>\n",
       "      <th>COUNTYNS</th>\n",
       "      <th>AFFGEOID</th>\n",
       "      <th>GEOID</th>\n",
       "      <th>NAME</th>\n",
       "      <th>LSAD</th>\n",
       "      <th>ALAND</th>\n",
       "      <th>AWATER</th>\n",
       "      <th>geometry</th>\n",
       "    </tr>\n",
       "  </thead>\n",
       "  <tbody>\n",
       "    <tr>\n",
       "      <th>0</th>\n",
       "      <td>37</td>\n",
       "      <td>017</td>\n",
       "      <td>01026336</td>\n",
       "      <td>0500000US37017</td>\n",
       "      <td>37017</td>\n",
       "      <td>Bladen</td>\n",
       "      <td>06</td>\n",
       "      <td>2265887723</td>\n",
       "      <td>33010866</td>\n",
       "      <td>POLYGON ((-78.90200 34.83527, -78.79960 34.850...</td>\n",
       "    </tr>\n",
       "    <tr>\n",
       "      <th>1</th>\n",
       "      <td>37</td>\n",
       "      <td>167</td>\n",
       "      <td>01025844</td>\n",
       "      <td>0500000US37167</td>\n",
       "      <td>37167</td>\n",
       "      <td>Stanly</td>\n",
       "      <td>06</td>\n",
       "      <td>1023370459</td>\n",
       "      <td>25242751</td>\n",
       "      <td>POLYGON ((-80.49737 35.20210, -80.29542 35.502...</td>\n",
       "    </tr>\n",
       "    <tr>\n",
       "      <th>2</th>\n",
       "      <td>39</td>\n",
       "      <td>153</td>\n",
       "      <td>01074088</td>\n",
       "      <td>0500000US39153</td>\n",
       "      <td>39153</td>\n",
       "      <td>Summit</td>\n",
       "      <td>06</td>\n",
       "      <td>1069181981</td>\n",
       "      <td>18958267</td>\n",
       "      <td>POLYGON ((-81.68699 41.13596, -81.68495 41.277...</td>\n",
       "    </tr>\n",
       "  </tbody>\n",
       "</table>\n",
       "</div>"
      ],
      "text/plain": [
       "  STATEFP COUNTYFP  COUNTYNS        AFFGEOID  GEOID    NAME LSAD       ALAND  \\\n",
       "0      37      017  01026336  0500000US37017  37017  Bladen   06  2265887723   \n",
       "1      37      167  01025844  0500000US37167  37167  Stanly   06  1023370459   \n",
       "2      39      153  01074088  0500000US39153  39153  Summit   06  1069181981   \n",
       "\n",
       "     AWATER                                           geometry  \n",
       "0  33010866  POLYGON ((-78.90200 34.83527, -78.79960 34.850...  \n",
       "1  25242751  POLYGON ((-80.49737 35.20210, -80.29542 35.502...  \n",
       "2  18958267  POLYGON ((-81.68699 41.13596, -81.68495 41.277...  "
      ]
     },
     "execution_count": 55,
     "metadata": {},
     "output_type": "execute_result"
    }
   ],
   "source": [
    "# traverse the whole list? or will it be confined to one state? \n",
    "countyData = geopandas.read_file(\"/Users/megantabbutt/Downloads/cb_2018_us_county_20m/cb_2018_us_county_20m.shp\")\n",
    "countyData.head(3)"
   ]
  },
  {
   "cell_type": "code",
   "execution_count": 66,
   "metadata": {},
   "outputs": [
    {
     "name": "stdout",
     "output_type": "stream",
     "text": [
      "Dane  = Starting County\n",
      "55  = Starting State\n",
      "114632\n",
      "['Dane']\n"
     ]
    }
   ],
   "source": [
    "uniquePoints = ID_points.copy()\n",
    "counties = []\n",
    "\n",
    "startingPoint = uniquePoints[0]\n",
    "startingPoint\n",
    "\n",
    "for county in countyData.iterrows():\n",
    "    if county[1]['geometry'].contains(startingPoint):\n",
    "        startingCounty = county[1]['NAME']\n",
    "        startingState = county[1]['STATEFP']\n",
    "        print(startingCounty, \" = Starting County\")\n",
    "        print(startingState, \" = Starting State\")\n",
    "        \n",
    "stateDF = countyData[countyData['STATEFP'] == startingState]\n",
    "countyDF = stateDF[stateDF['NAME'] == startingCounty]\n",
    "\n",
    "print(len(uniquePoints))\n",
    "\n",
    "for point in farthest_points:\n",
    "    for county in countyDF.iterrows():\n",
    "        if county[1]['geometry'].contains(point):\n",
    "            if county[1]['NAME'] not in counties:\n",
    "                counties.append(county[1]['NAME'])\n",
    "print(counties)\n",
    "\n",
    "# Need to make this piece fo code work! \n",
    "#if len(counties) > 1:\n",
    "    #for point in uniquePoints:\n",
    "        #print(point)\n",
    "        #for county in countyDF.iterrows():\n",
    "            #if county[1]['geometry'].contains(point):\n",
    "                #if county[1]['NAME'] not in counties:\n",
    "                    #counties.append(county[1]['NAME'])\n",
    "            #uniquePoints.remove(point)\n",
    "            #print(len(uniquePoints))\n",
    "            #break\n",
    "#uniquePoints"
   ]
  }
 ],
 "metadata": {
  "kernelspec": {
   "display_name": "Python 3",
   "language": "python",
   "name": "python3"
  },
  "language_info": {
   "codemirror_mode": {
    "name": "ipython",
    "version": 3
   },
   "file_extension": ".py",
   "mimetype": "text/x-python",
   "name": "python",
   "nbconvert_exporter": "python",
   "pygments_lexer": "ipython3",
   "version": "3.7.2"
  }
 },
 "nbformat": 4,
 "nbformat_minor": 2
}
