{
 "cells": [
  {
   "cell_type": "markdown",
   "metadata": {},
   "source": [
    "To-Do:\n",
    "\n",
    "- fix file paths with os.join\n",
    "- write the load-census function\n",
    "- save output and enable cache feature like in Services\n",
    "- create demographics default dictionaries from census codes\n",
    "- check other gtfs files, general?\n",
    "- enable a cache feature for the demogrpahics pull as well\n",
    "\n",
    "Questions:\n",
    "\n",
    "- where should I pull the stops data from? zip? unzipped? pre-processed? [goes along with reusing Change code below]\n",
    "- Is it ok that mine is a class? Thought it might be useful for people to poke around the class on their own if they wanted to while using the package? \n",
    "\n",
    "long-term To-do:\n",
    "- make defaults vs user specified options\n",
    "- redundant center and radius code? utilize Chang's code\n",
    "- build in a way to specify how fine of features people want (blgr, tract, etc)\n",
    "- build in 500 warning calls to API, back off to larger group area by default? \n",
    "- way to get a geodataframe back from this, then do some processing, then combine later? In case they want to compute their own stats based off some columns? \n",
    "\n"
   ]
  },
  {
   "cell_type": "code",
   "execution_count": null,
   "metadata": {},
   "outputs": [],
   "source": [
    "from Census import Census\n",
    "import matplotlib.pyplot as plt\n",
    "import geopandas as gpd\n",
    "from mpl_toolkits.axes_grid1 import make_axes_locatable"
   ]
  },
  {
   "cell_type": "code",
   "execution_count": null,
   "metadata": {},
   "outputs": [],
   "source": [
    "c = Census(\n",
    "    gtfs_filename=\"../../data/mmt_gtfs/stops.csv\")"
   ]
  },
  {
   "cell_type": "code",
   "execution_count": null,
   "metadata": {},
   "outputs": [],
   "source": [
    "gdf_tracts = c.getCensusTracts()\n",
    "gdf_tracts.boundary.plot()\n",
    "plt.show()"
   ]
  },
  {
   "cell_type": "code",
   "execution_count": null,
   "metadata": {},
   "outputs": [],
   "source": [
    "demographic_data = c.getDemographicsData(gdf_tracts, demographics=['Race', 'Vehicles'], sample=True)\n",
    "demographic_data.head(3)"
   ]
  },
  {
   "cell_type": "code",
   "execution_count": null,
   "metadata": {},
   "outputs": [],
   "source": [
    "fig, ax = plt.subplots(1, 1, figsize=(10, 10))\n",
    "divider = make_axes_locatable(ax)\n",
    "cax = divider.append_axes(\"right\", size=\"5%\", pad = -.5)\n",
    "\n",
    "demographic_data.plot(column='% Black or African American alone', ax=ax, legend=True, cax=cax, cmap='viridis_r', alpha=.8, zorder=1)\n",
    "fig = ax.figure\n",
    "cb_ax = fig.axes[1]\n",
    "cb_ax.tick_params(labelsize=14)\n",
    "\n",
    "gdf_tracts.boundary.plot(color='lightblue', alpha=.5, ax=ax, zorder=0)\n",
    "\n",
    "cax.set_ylabel(\"Percent Black\", fontsize=16)        \n",
    "        \n",
    "ax.set_facecolor(\"#e7e3e0\")\n",
    "ax.set_yticks([])\n",
    "ax.set_xticks([])\n",
    "\n",
    "fig.suptitle(\"Percent Black\", fontsize=18, x=.55, y=.83)\n",
    "plt.show()"
   ]
  },
  {
   "cell_type": "code",
   "execution_count": null,
   "metadata": {},
   "outputs": [],
   "source": [
    "fig, ax = plt.subplots(1, 1, figsize=(10, 10))\n",
    "divider = make_axes_locatable(ax)\n",
    "cax = divider.append_axes(\"right\", size=\"5%\", pad = -.5)\n",
    "\n",
    "demographic_data.plot(column='cars per capita', ax=ax, legend=True, cax=cax, cmap='viridis', alpha=.8, zorder=1)\n",
    "fig = ax.figure\n",
    "cb_ax = fig.axes[1]\n",
    "cb_ax.tick_params(labelsize=14)\n",
    "\n",
    "gdf_tracts.boundary.plot(color='lightblue', alpha=.5, ax=ax, zorder=0)\n",
    "\n",
    "cax.set_ylabel(\"Cars per Capita\", fontsize=16)        \n",
    "        \n",
    "ax.set_facecolor(\"#e7e3e0\")\n",
    "ax.set_yticks([])\n",
    "ax.set_xticks([])\n",
    "\n",
    "fig.suptitle(\"Cars per Capita\", fontsize=18, x=.55, y=.83)\n",
    "plt.show()"
   ]
  },
  {
   "cell_type": "code",
   "execution_count": null,
   "metadata": {},
   "outputs": [],
   "source": []
  }
 ],
 "metadata": {
  "kernelspec": {
   "display_name": "Python 3",
   "language": "python",
   "name": "python3"
  },
  "language_info": {
   "codemirror_mode": {
    "name": "ipython",
    "version": 3
   },
   "file_extension": ".py",
   "mimetype": "text/x-python",
   "name": "python",
   "nbconvert_exporter": "python",
   "pygments_lexer": "ipython3",
   "version": "3.8.2"
  }
 },
 "nbformat": 4,
 "nbformat_minor": 4
}
