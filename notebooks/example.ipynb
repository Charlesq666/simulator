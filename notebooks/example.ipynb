{
 "cells": [
  {
   "cell_type": "code",
   "execution_count": 1,
   "metadata": {},
   "outputs": [],
   "source": [
    "from pathlib import Path\n",
    "import sys\n",
    "import yaml\n",
    "import time\n",
    "\n",
    "import numpy as np\n",
    "import pandas as pd\n",
    "import geopandas as gpd\n",
    "import matplotlib.pyplot as plt\n",
    "\n",
    "DIR = Path('..')\n",
    "sys.path.append(str(DIR))\n",
    "from SCanalyzer import SCanalyzer\n",
    "from SCanalyzer.busSim import BusSim, Config\n",
    "from SCanalyzer.busSim.manager import managerFactory\n",
    "from SCanalyzer.gtfs_edit import edit_double\n",
    "\n",
    "%matplotlib inline"
   ]
  },
  {
   "cell_type": "code",
   "execution_count": 2,
   "metadata": {},
   "outputs": [],
   "source": [
    "def get_yelp_api_key():\n",
    "    with open(\"../config.yml\", 'r') as yml:\n",
    "        cfg = yaml.safe_load(yml)\n",
    "        return cfg[\"yelp\"][\"api_key\"]\n",
    "\n",
    "def plot_background():\n",
    "    background_path = \"../data/plot/background/\"\n",
    "    city = gpd.read_file(background_path + \"madison-meter-shp\")\n",
    "    lakes = gpd.read_file(background_path + \"water-meter-shp\")\n",
    "    street = gpd.read_file(background_path + \"street-meter-shp\")\n",
    "    # city = gpd.read_file(background_path + \"madison-shp\")\n",
    "    # lakes = gpd.read_file(background_path + \"water-shp\")\n",
    "    # street = gpd.read_file(background_path + \"street-shp\")\n",
    "\n",
    "    ax = city.plot(color=\"lightgray\", alpha=.2, figsize=(12, 12), zorder=2)\n",
    "    lakes.plot(color=\"lightblue\", ax=ax, zorder=1, alpha=0.8)\n",
    "    street.plot(color=\"darkgray\", alpha = .5, ax=ax, zorder=3)\n",
    "    return ax"
   ]
  },
  {
   "cell_type": "markdown",
   "metadata": {},
   "source": [
    "# route remove study"
   ]
  },
  {
   "cell_type": "code",
   "execution_count": null,
   "metadata": {},
   "outputs": [],
   "source": [
    "gtfo = Gtfo(\"../data/mmt_gtfs.zip\")\n",
    "census_gdf = gtfo.load_census()\n",
    "services_gdf = gtfo.load_yelp(api_key=get_yelp_api_key())\n",
    "\n",
    "routes = [ 2,  4,  5,  6,  7,  8, 10, 11, 12, 13, 15, 16, 17, 18, 20, 21, 22,\n",
    "       23, 26, 27, 30, 31, 32, 33, 36, 39, 40, 44, 48, 49, 50, 51, 52, 55,\n",
    "       67, 70, 72, 73, 75, 59, 63, 68, 78, 80, 84, 81, 82]\n",
    "for route in routes:\n",
    "    print(route)\n",
    "    gtfo.set_batch_label(f\"{route}-rm\")\n",
    "    config = Config(day=\"monday\", elapse_time=\"00:30:00\", interval=\"00:10:00\", max_walking_min=10, route_remove=[route])\n",
    "    config.set_starts(centroids=census_gdf)\n",
    "\n",
    "    perf_df = pd.DataFrame(\n",
    "            columns=[\"geometry\", \"start_time\", \"search_time\", \"add_service_time\", \"add_census_time\"])\n",
    "    result_gdf = gtfo.search(config, perf_df)\n",
    "    gtfo.add_service_metrics(result_gdf, services_gdf, perf_df)\n",
    "    gtfo.add_demographic_metrics(result_gdf, census_gdf, perf_df)\n",
    "    result_gdf.to_csv(f\"../out/result/result{route}.csv\", index=False)\n",
    "    perf_df.to_csv(f\"../out/perf/perf{route}.csv\", index=False)"
   ]
  },
  {
   "cell_type": "markdown",
   "metadata": {},
   "source": [
    "# route doubling study"
   ]
  },
  {
   "cell_type": "code",
   "execution_count": 21,
   "metadata": {},
   "outputs": [
    {
     "name": "stdout",
     "output_type": "stream",
     "text": [
      "Empty DataFrame\n",
      "Columns: [geometry, start_time, search_time, add_service_time, add_census_time]\n",
      "Index: []\n"
     ]
    }
   ],
   "source": [
    "print(perf_df)"
   ]
  },
  {
   "cell_type": "code",
   "execution_count": 3,
   "metadata": {},
   "outputs": [
    {
     "name": "stdout",
     "output_type": "stream",
     "text": [
      "80\n",
      "Empty DataFrame\n",
      "Columns: [geometry, start_time, search_time, add_service_time, add_census_time]\n",
      "Index: []\n"
     ]
    },
    {
     "ename": "FileNotFoundError",
     "evalue": "[Errno 2] No such file or directory: './out/result/result80-double.csv'",
     "output_type": "error",
     "traceback": [
      "\u001b[0;31m---------------------------------------------------------------------------\u001b[0m",
      "\u001b[0;31mFileNotFoundError\u001b[0m                         Traceback (most recent call last)",
      "\u001b[0;32m<ipython-input-3-2d23cb6ca75f>\u001b[0m in \u001b[0;36m<module>\u001b[0;34m\u001b[0m\n\u001b[1;32m     18\u001b[0m     \u001b[0msc\u001b[0m\u001b[0;34m.\u001b[0m\u001b[0madd_service_metrics\u001b[0m\u001b[0;34m(\u001b[0m\u001b[0mresult_gdf\u001b[0m\u001b[0;34m,\u001b[0m \u001b[0mservices_gdf\u001b[0m\u001b[0;34m,\u001b[0m \u001b[0mperf_df\u001b[0m\u001b[0;34m)\u001b[0m\u001b[0;34m\u001b[0m\u001b[0;34m\u001b[0m\u001b[0m\n\u001b[1;32m     19\u001b[0m     \u001b[0msc\u001b[0m\u001b[0;34m.\u001b[0m\u001b[0madd_demographic_metrics\u001b[0m\u001b[0;34m(\u001b[0m\u001b[0mresult_gdf\u001b[0m\u001b[0;34m,\u001b[0m \u001b[0mcensus_gdf\u001b[0m\u001b[0;34m,\u001b[0m \u001b[0mperf_df\u001b[0m\u001b[0;34m)\u001b[0m\u001b[0;34m\u001b[0m\u001b[0;34m\u001b[0m\u001b[0m\n\u001b[0;32m---> 20\u001b[0;31m     \u001b[0mresult_gdf\u001b[0m\u001b[0;34m.\u001b[0m\u001b[0mto_csv\u001b[0m\u001b[0;34m(\u001b[0m\u001b[0;34mf\"./out/result/result{route}-double.csv\"\u001b[0m\u001b[0;34m,\u001b[0m \u001b[0mindex\u001b[0m\u001b[0;34m=\u001b[0m\u001b[0;32mFalse\u001b[0m\u001b[0;34m)\u001b[0m\u001b[0;34m\u001b[0m\u001b[0;34m\u001b[0m\u001b[0m\n\u001b[0m\u001b[1;32m     21\u001b[0m     \u001b[0mperf_df\u001b[0m\u001b[0;34m.\u001b[0m\u001b[0mto_csv\u001b[0m\u001b[0;34m(\u001b[0m\u001b[0;34mf\"./out/perf/perf{route}-double.csv\"\u001b[0m\u001b[0;34m,\u001b[0m \u001b[0mindex\u001b[0m\u001b[0;34m=\u001b[0m\u001b[0;32mFalse\u001b[0m\u001b[0;34m)\u001b[0m\u001b[0;34m\u001b[0m\u001b[0;34m\u001b[0m\u001b[0m\n\u001b[1;32m     22\u001b[0m     \u001b[0;32mbreak\u001b[0m\u001b[0;34m\u001b[0m\u001b[0;34m\u001b[0m\u001b[0m\n",
      "\u001b[0;32m~/projects/simulator/venv/lib/python3.8/site-packages/pandas/core/generic.py\u001b[0m in \u001b[0;36mto_csv\u001b[0;34m(self, path_or_buf, sep, na_rep, float_format, columns, header, index, index_label, mode, encoding, compression, quoting, quotechar, line_terminator, chunksize, date_format, doublequote, escapechar, decimal, errors, storage_options)\u001b[0m\n\u001b[1;32m   3384\u001b[0m         )\n\u001b[1;32m   3385\u001b[0m \u001b[0;34m\u001b[0m\u001b[0m\n\u001b[0;32m-> 3386\u001b[0;31m         return DataFrameRenderer(formatter).to_csv(\n\u001b[0m\u001b[1;32m   3387\u001b[0m             \u001b[0mpath_or_buf\u001b[0m\u001b[0;34m,\u001b[0m\u001b[0;34m\u001b[0m\u001b[0;34m\u001b[0m\u001b[0m\n\u001b[1;32m   3388\u001b[0m             \u001b[0mline_terminator\u001b[0m\u001b[0;34m=\u001b[0m\u001b[0mline_terminator\u001b[0m\u001b[0;34m,\u001b[0m\u001b[0;34m\u001b[0m\u001b[0;34m\u001b[0m\u001b[0m\n",
      "\u001b[0;32m~/projects/simulator/venv/lib/python3.8/site-packages/pandas/io/formats/format.py\u001b[0m in \u001b[0;36mto_csv\u001b[0;34m(self, path_or_buf, encoding, sep, columns, index_label, mode, compression, quoting, quotechar, line_terminator, chunksize, date_format, doublequote, escapechar, errors, storage_options)\u001b[0m\n\u001b[1;32m   1081\u001b[0m             \u001b[0mformatter\u001b[0m\u001b[0;34m=\u001b[0m\u001b[0mself\u001b[0m\u001b[0;34m.\u001b[0m\u001b[0mfmt\u001b[0m\u001b[0;34m,\u001b[0m\u001b[0;34m\u001b[0m\u001b[0;34m\u001b[0m\u001b[0m\n\u001b[1;32m   1082\u001b[0m         )\n\u001b[0;32m-> 1083\u001b[0;31m         \u001b[0mcsv_formatter\u001b[0m\u001b[0;34m.\u001b[0m\u001b[0msave\u001b[0m\u001b[0;34m(\u001b[0m\u001b[0;34m)\u001b[0m\u001b[0;34m\u001b[0m\u001b[0;34m\u001b[0m\u001b[0m\n\u001b[0m\u001b[1;32m   1084\u001b[0m \u001b[0;34m\u001b[0m\u001b[0m\n\u001b[1;32m   1085\u001b[0m         \u001b[0;32mif\u001b[0m \u001b[0mcreated_buffer\u001b[0m\u001b[0;34m:\u001b[0m\u001b[0;34m\u001b[0m\u001b[0;34m\u001b[0m\u001b[0m\n",
      "\u001b[0;32m~/projects/simulator/venv/lib/python3.8/site-packages/pandas/io/formats/csvs.py\u001b[0m in \u001b[0;36msave\u001b[0;34m(self)\u001b[0m\n\u001b[1;32m    226\u001b[0m         \"\"\"\n\u001b[1;32m    227\u001b[0m         \u001b[0;31m# apply compression and byte/text conversion\u001b[0m\u001b[0;34m\u001b[0m\u001b[0;34m\u001b[0m\u001b[0;34m\u001b[0m\u001b[0m\n\u001b[0;32m--> 228\u001b[0;31m         with get_handle(\n\u001b[0m\u001b[1;32m    229\u001b[0m             \u001b[0mself\u001b[0m\u001b[0;34m.\u001b[0m\u001b[0mfilepath_or_buffer\u001b[0m\u001b[0;34m,\u001b[0m\u001b[0;34m\u001b[0m\u001b[0;34m\u001b[0m\u001b[0m\n\u001b[1;32m    230\u001b[0m             \u001b[0mself\u001b[0m\u001b[0;34m.\u001b[0m\u001b[0mmode\u001b[0m\u001b[0;34m,\u001b[0m\u001b[0;34m\u001b[0m\u001b[0;34m\u001b[0m\u001b[0m\n",
      "\u001b[0;32m~/projects/simulator/venv/lib/python3.8/site-packages/pandas/io/common.py\u001b[0m in \u001b[0;36mget_handle\u001b[0;34m(path_or_buf, mode, encoding, compression, memory_map, is_text, errors, storage_options)\u001b[0m\n\u001b[1;32m    640\u001b[0m                 \u001b[0merrors\u001b[0m \u001b[0;34m=\u001b[0m \u001b[0;34m\"replace\"\u001b[0m\u001b[0;34m\u001b[0m\u001b[0;34m\u001b[0m\u001b[0m\n\u001b[1;32m    641\u001b[0m             \u001b[0;31m# Encoding\u001b[0m\u001b[0;34m\u001b[0m\u001b[0;34m\u001b[0m\u001b[0;34m\u001b[0m\u001b[0m\n\u001b[0;32m--> 642\u001b[0;31m             handle = open(\n\u001b[0m\u001b[1;32m    643\u001b[0m                 \u001b[0mhandle\u001b[0m\u001b[0;34m,\u001b[0m\u001b[0;34m\u001b[0m\u001b[0;34m\u001b[0m\u001b[0m\n\u001b[1;32m    644\u001b[0m                 \u001b[0mioargs\u001b[0m\u001b[0;34m.\u001b[0m\u001b[0mmode\u001b[0m\u001b[0;34m,\u001b[0m\u001b[0;34m\u001b[0m\u001b[0;34m\u001b[0m\u001b[0m\n",
      "\u001b[0;31mFileNotFoundError\u001b[0m: [Errno 2] No such file or directory: './out/result/result80-double.csv'"
     ]
    }
   ],
   "source": [
    "sc = SCanalyzer(\"../data/mmt_gtfs.zip\")\n",
    "census_gdf = sc.load_census()\n",
    "services_gdf = sc.load_yelp(api_key=get_yelp_api_key())\n",
    "config = Config(day=\"monday\", elapse_time=\"00:30:00\", interval=\"10:10:00\", max_walking_min=10)\n",
    "config.set_starts(centroids=census_gdf)\n",
    "\n",
    "routes = [ 2,  4,  5,  6,  7,  8, 10, 11, 12, 13, 15, 16, 17, 18, 20, 21, 22,\n",
    "       23, 26, 27, 30, 31, 32, 33, 36, 39, 40, 44, 48, 49, 50, 51, 52, 55,\n",
    "       67, 70, 72, 73, 75, 59, 63, 68, 78, 80, 84, 81, 82]\n",
    "routes = [80]\n",
    "for route in routes:\n",
    "    print(route)\n",
    "    sc.gtfs_edit(edit_double, route)\n",
    "    sc.set_batch_label(f\"{route}-double\")\n",
    "    perf_df = pd.DataFrame(\n",
    "            columns=[\"geometry\", \"start_time\", \"search_time\", \"add_service_time\", \"add_census_time\"])\n",
    "    result_gdf = sc.search(config, perf_df)\n",
    "    sc.add_service_metrics(result_gdf, services_gdf, perf_df)\n",
    "    sc.add_demographic_metrics(result_gdf, census_gdf, perf_df)\n",
    "    result_gdf.to_csv(f\"./out/result/result{route}-double.csv\", index=False)\n",
    "    perf_df.to_csv(f\"./out/perf/perf{route}-double.csv\", index=False)\n",
    "    break"
   ]
  },
  {
   "cell_type": "code",
   "execution_count": 4,
   "metadata": {},
   "outputs": [
    {
     "name": "stdout",
     "output_type": "stream",
     "text": [
      "13.470890283584595\n",
      "5.81003999710083\n",
      "3.6619296073913574\n"
     ]
    },
    {
     "data": {
      "text/plain": [
       "4433.0"
      ]
     },
     "execution_count": 4,
     "metadata": {},
     "output_type": "execute_result"
    }
   ],
   "source": [
    "sc = SCanalyzer(\"../data/mmt_gtfs.zip\")\n",
    "census_gdf = sc.load_census()\n",
    "config = Config(day=\"monday\", elapse_time=\"00:30:00\", interval=\"10:00:00\", max_walking_min=10)\n",
    "# config.set_starts(points=[(43.073691, -89.387407), (43.073691, -89.387407)])\n",
    "config.set_starts(centroids=census_gdf)\n",
    "t0 = time.time()\n",
    "result_gdf = sc.search(config)\n",
    "t1 = time.time()\n",
    "print(t1-t0)\n",
    "\n",
    "services_gdf = sc.load_yelp(api_key=get_yelp_api_key())\n",
    "sc.add_service_metrics(result_gdf, services_gdf)\n",
    "t2 = time.time()\n",
    "print(t2-t1)\n",
    "\n",
    "sc.add_demographic_metrics(result_gdf, census_gdf) # SLOW\n",
    "t3 = time.time()\n",
    "print(t3-t2)\n",
    "result_gdf[\"banks\"].sum() #7263.0"
   ]
  },
  {
   "cell_type": "code",
   "execution_count": 8,
   "metadata": {},
   "outputs": [
    {
     "name": "stdout",
     "output_type": "stream",
     "text": [
      "14.240432977676392\n",
      "5.757421493530273\n",
      "3.6486732959747314\n"
     ]
    },
    {
     "data": {
      "text/plain": [
       "4441.0"
      ]
     },
     "execution_count": 8,
     "metadata": {},
     "output_type": "execute_result"
    }
   ],
   "source": [
    "sc.gtfs_edit(edit_double, 80)\n",
    "t0 = time.time()\n",
    "result_gdf = sc.search(config)\n",
    "t1 = time.time()\n",
    "print(t1-t0)\n",
    "\n",
    "services_gdf = sc.load_yelp(api_key=get_yelp_api_key())\n",
    "sc.add_service_metrics(result_gdf, services_gdf)\n",
    "t2 = time.time()\n",
    "print(t2-t1)\n",
    "\n",
    "sc.add_demographic_metrics(result_gdf, census_gdf) # SLOW\n",
    "t3 = time.time()\n",
    "print(t3-t2)\n",
    "result_gdf[\"banks\"].sum() #7263.0"
   ]
  },
  {
   "cell_type": "code",
   "execution_count": 20,
   "metadata": {},
   "outputs": [
    {
     "data": {
      "text/plain": [
       "4441.0"
      ]
     },
     "execution_count": 20,
     "metadata": {},
     "output_type": "execute_result"
    }
   ],
   "source": [
    "result = pd.read_csv(\"./out/result/result80-double.csv\")\n",
    "result[\"banks\"].sum()"
   ]
  },
  {
   "cell_type": "markdown",
   "metadata": {},
   "source": [
    "# Visualize simulation"
   ]
  },
  {
   "cell_type": "code",
   "execution_count": null,
   "metadata": {},
   "outputs": [],
   "source": [
    "gtfo = Gtfo(\"../data/mmt_gtfs.zip\")\n",
    "ax = plot_background()\n",
    "gtfo.set_batch_label(f\"80-rm\")\n",
    "example_gdf = gtfo.load_result_map(map_identifier=\"search-result-0-600!10\")\n",
    "example_gdf.plot(color=\"#ffbfba\", ax=ax)"
   ]
  },
  {
   "cell_type": "markdown",
   "metadata": {},
   "source": [
    "# AWS test"
   ]
  },
  {
   "cell_type": "code",
   "execution_count": null,
   "metadata": {},
   "outputs": [],
   "source": [
    "from gtfo.busSim.manager import managerFactory\n",
    "aws = managerFactory.create(\"aws\", gtfs_path=None, city_path=None, out_path=None)"
   ]
  },
  {
   "cell_type": "code",
   "execution_count": null,
   "metadata": {},
   "outputs": [],
   "source": [
    "aws.clean_up()"
   ]
  },
  {
   "cell_type": "code",
   "execution_count": null,
   "metadata": {},
   "outputs": [],
   "source": [
    "import boto3\n",
    "aws_lambda = boto3.client('lambda', region_name='ap-northeast-1')\n",
    "with open(\"tmp.zip\", 'rb') as f:\n",
    "    response = aws_lambda.create_function(\n",
    "        Code={\n",
    "            'ZipFile': f.read()\n",
    "        },\n",
    "        Description='BusSim handler',\n",
    "        FunctionName=\"test\",\n",
    "        Handler='lambda_function.lambda_handler',\n",
    "        MemorySize=512,\n",
    "        Publish=True,\n",
    "        Role=\"arn:aws:iam::347664766527:role/s3rwRole\",\n",
    "        Runtime='python3.8',\n",
    "        Timeout=900,\n",
    "        TracingConfig={\n",
    "            'Mode': 'Active',\n",
    "        },\n",
    "    )"
   ]
  }
 ],
 "metadata": {
  "interpreter": {
   "hash": "398dc28c06ad810e77de546bbdfa897a6ee0b83e59a5207339dda01a7843e01d"
  },
  "kernelspec": {
   "display_name": "Python 3.6.8 64-bit ('base': conda)",
   "name": "python3"
  },
  "language_info": {
   "name": "python",
   "version": ""
  },
  "metadata": {
   "interpreter": {
    "hash": "948cbe787796f35d370cbb3c22a8b7539e249b2486888efe0038f57b4dd2dfbc"
   }
  }
 },
 "nbformat": 4,
 "nbformat_minor": 2
}