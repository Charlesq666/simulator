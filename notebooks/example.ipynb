{
 "metadata": {
  "language_info": {
   "codemirror_mode": {
    "name": "ipython",
    "version": 3
   },
   "file_extension": ".py",
   "mimetype": "text/x-python",
   "name": "python",
   "nbconvert_exporter": "python",
   "pygments_lexer": "ipython3",
   "version": "3.8.5"
  },
  "orig_nbformat": 2,
  "kernelspec": {
   "name": "pythonjvsc74a57bd0948cbe787796f35d370cbb3c22a8b7539e249b2486888efe0038f57b4dd2dfbc",
   "display_name": "Python 3.8.5  ('venv': venv)"
  },
  "metadata": {
   "interpreter": {
    "hash": "948cbe787796f35d370cbb3c22a8b7539e249b2486888efe0038f57b4dd2dfbc"
   }
  }
 },
 "nbformat": 4,
 "nbformat_minor": 2,
 "cells": [
  {
   "cell_type": "code",
   "execution_count": 1,
   "metadata": {},
   "outputs": [],
   "source": [
    "from pathlib import Path\n",
    "import sys\n",
    "import yaml\n",
    "import time\n",
    "\n",
    "import numpy as np\n",
    "import pandas as pd\n",
    "import geopandas as gpd\n",
    "import matplotlib.pyplot as plt\n",
    "\n",
    "DIR = Path('..')\n",
    "sys.path.append(str(DIR))\n",
    "from SCanalyzer import SCanalyzer\n",
    "from SCanalyzer.busSim import BusSim, Config\n",
    "from SCanalyzer.busSim.manager import managerFactory\n",
    "\n",
    "%matplotlib inline"
   ]
  },
  {
   "cell_type": "code",
   "execution_count": 2,
   "metadata": {},
   "outputs": [],
   "source": [
    "def get_yelp_api_key():\n",
    "    with open(\"../config.yml\", 'r') as yml:\n",
    "        cfg = yaml.safe_load(yml)\n",
    "        return cfg[\"yelp\"][\"api_key\"]\n",
    "\n",
    "def plot_background():\n",
    "    background_path = \"../data/plot/background/\"\n",
    "    city = gpd.read_file(background_path + \"madison-meter-shp\")\n",
    "    lakes = gpd.read_file(background_path + \"water-meter-shp\")\n",
    "    street = gpd.read_file(background_path + \"street-meter-shp\")\n",
    "    # city = gpd.read_file(background_path + \"madison-shp\")\n",
    "    # lakes = gpd.read_file(background_path + \"water-shp\")\n",
    "    # street = gpd.read_file(background_path + \"street-shp\")\n",
    "\n",
    "    ax = city.plot(color=\"lightgray\", alpha=.2, figsize=(12, 12), zorder=2)\n",
    "    lakes.plot(color=\"lightblue\", ax=ax, zorder=1, alpha=0.8)\n",
    "    street.plot(color=\"darkgray\", alpha = .5, ax=ax, zorder=3)\n",
    "    return ax"
   ]
  },
  {
   "cell_type": "code",
   "execution_count": 3,
   "metadata": {},
   "outputs": [
    {
     "output_type": "execute_result",
     "data": {
      "text/plain": [
       "                                         geometry start_time  \\\n",
       "0    POINT (-89.66743836656362 43.18492511575211)     0:0:00   \n",
       "1    POINT (-89.55685462121274 42.99395548763492)     0:0:00   \n",
       "2     POINT (-89.5513701948981 43.03058973687484)     0:0:00   \n",
       "3    POINT (-89.52466340686239 42.97083580368362)     0:0:00   \n",
       "4     POINT (-89.48838054600107 43.0984346448524)     0:0:00   \n",
       "..                                            ...        ...   \n",
       "829  POINT (-89.26709580690887 43.02062363239731)    20:0:00   \n",
       "830    POINT (-89.254316326777 43.17947047459754)    20:0:00   \n",
       "831  POINT (-89.21923375584366 43.19099896987731)    20:0:00   \n",
       "832    POINT (-89.23107883723563 43.055505101709)    20:0:00   \n",
       "833   POINT (-89.19748368578396 42.9824362117189)    20:0:00   \n",
       "\n",
       "               map_identifier  banks  clinics  dentists  hospitals  \\\n",
       "0         search-result-0-0!0    0.0      0.0       0.0        0.0   \n",
       "1         search-result-0-0!1    0.0      0.0       0.0        0.0   \n",
       "2         search-result-0-0!2    0.0      0.0       0.0        0.0   \n",
       "3         search-result-0-0!3    0.0      0.0       0.0        0.0   \n",
       "4         search-result-0-0!4    0.0      0.0       0.0        0.0   \n",
       "..                        ...    ...      ...       ...        ...   \n",
       "829  search-result-0-1200!273    0.0      0.0       0.0        0.0   \n",
       "830  search-result-0-1200!274    0.0      0.0       0.0        0.0   \n",
       "831  search-result-0-1200!275    0.0      0.0       0.0        0.0   \n",
       "832  search-result-0-1200!276    0.0      0.0       0.0        0.0   \n",
       "833  search-result-0-1200!277    0.0      0.0       0.0        0.0   \n",
       "\n",
       "     supermarket  Tot Pop  cars per capita  \n",
       "0            0.0   1844.0         0.404013  \n",
       "1            0.0   1802.0         0.314095  \n",
       "2            0.0   3575.0         0.439720  \n",
       "3            0.0   4715.0         0.386002  \n",
       "4            0.0   2256.0         0.475177  \n",
       "..           ...      ...              ...  \n",
       "829          0.0   1600.0         0.333125  \n",
       "830          0.0   2205.0         0.451247  \n",
       "831          0.0   1452.0         0.376033  \n",
       "832          0.0    450.0         0.537778  \n",
       "833          0.0   1256.0         0.372611  \n",
       "\n",
       "[834 rows x 10 columns]"
      ],
      "text/html": "<div>\n<style scoped>\n    .dataframe tbody tr th:only-of-type {\n        vertical-align: middle;\n    }\n\n    .dataframe tbody tr th {\n        vertical-align: top;\n    }\n\n    .dataframe thead th {\n        text-align: right;\n    }\n</style>\n<table border=\"1\" class=\"dataframe\">\n  <thead>\n    <tr style=\"text-align: right;\">\n      <th></th>\n      <th>geometry</th>\n      <th>start_time</th>\n      <th>map_identifier</th>\n      <th>banks</th>\n      <th>clinics</th>\n      <th>dentists</th>\n      <th>hospitals</th>\n      <th>supermarket</th>\n      <th>Tot Pop</th>\n      <th>cars per capita</th>\n    </tr>\n  </thead>\n  <tbody>\n    <tr>\n      <th>0</th>\n      <td>POINT (-89.66743836656362 43.18492511575211)</td>\n      <td>0:0:00</td>\n      <td>search-result-0-0!0</td>\n      <td>0.0</td>\n      <td>0.0</td>\n      <td>0.0</td>\n      <td>0.0</td>\n      <td>0.0</td>\n      <td>1844.0</td>\n      <td>0.404013</td>\n    </tr>\n    <tr>\n      <th>1</th>\n      <td>POINT (-89.55685462121274 42.99395548763492)</td>\n      <td>0:0:00</td>\n      <td>search-result-0-0!1</td>\n      <td>0.0</td>\n      <td>0.0</td>\n      <td>0.0</td>\n      <td>0.0</td>\n      <td>0.0</td>\n      <td>1802.0</td>\n      <td>0.314095</td>\n    </tr>\n    <tr>\n      <th>2</th>\n      <td>POINT (-89.5513701948981 43.03058973687484)</td>\n      <td>0:0:00</td>\n      <td>search-result-0-0!2</td>\n      <td>0.0</td>\n      <td>0.0</td>\n      <td>0.0</td>\n      <td>0.0</td>\n      <td>0.0</td>\n      <td>3575.0</td>\n      <td>0.439720</td>\n    </tr>\n    <tr>\n      <th>3</th>\n      <td>POINT (-89.52466340686239 42.97083580368362)</td>\n      <td>0:0:00</td>\n      <td>search-result-0-0!3</td>\n      <td>0.0</td>\n      <td>0.0</td>\n      <td>0.0</td>\n      <td>0.0</td>\n      <td>0.0</td>\n      <td>4715.0</td>\n      <td>0.386002</td>\n    </tr>\n    <tr>\n      <th>4</th>\n      <td>POINT (-89.48838054600107 43.0984346448524)</td>\n      <td>0:0:00</td>\n      <td>search-result-0-0!4</td>\n      <td>0.0</td>\n      <td>0.0</td>\n      <td>0.0</td>\n      <td>0.0</td>\n      <td>0.0</td>\n      <td>2256.0</td>\n      <td>0.475177</td>\n    </tr>\n    <tr>\n      <th>...</th>\n      <td>...</td>\n      <td>...</td>\n      <td>...</td>\n      <td>...</td>\n      <td>...</td>\n      <td>...</td>\n      <td>...</td>\n      <td>...</td>\n      <td>...</td>\n      <td>...</td>\n    </tr>\n    <tr>\n      <th>829</th>\n      <td>POINT (-89.26709580690887 43.02062363239731)</td>\n      <td>20:0:00</td>\n      <td>search-result-0-1200!273</td>\n      <td>0.0</td>\n      <td>0.0</td>\n      <td>0.0</td>\n      <td>0.0</td>\n      <td>0.0</td>\n      <td>1600.0</td>\n      <td>0.333125</td>\n    </tr>\n    <tr>\n      <th>830</th>\n      <td>POINT (-89.254316326777 43.17947047459754)</td>\n      <td>20:0:00</td>\n      <td>search-result-0-1200!274</td>\n      <td>0.0</td>\n      <td>0.0</td>\n      <td>0.0</td>\n      <td>0.0</td>\n      <td>0.0</td>\n      <td>2205.0</td>\n      <td>0.451247</td>\n    </tr>\n    <tr>\n      <th>831</th>\n      <td>POINT (-89.21923375584366 43.19099896987731)</td>\n      <td>20:0:00</td>\n      <td>search-result-0-1200!275</td>\n      <td>0.0</td>\n      <td>0.0</td>\n      <td>0.0</td>\n      <td>0.0</td>\n      <td>0.0</td>\n      <td>1452.0</td>\n      <td>0.376033</td>\n    </tr>\n    <tr>\n      <th>832</th>\n      <td>POINT (-89.23107883723563 43.055505101709)</td>\n      <td>20:0:00</td>\n      <td>search-result-0-1200!276</td>\n      <td>0.0</td>\n      <td>0.0</td>\n      <td>0.0</td>\n      <td>0.0</td>\n      <td>0.0</td>\n      <td>450.0</td>\n      <td>0.537778</td>\n    </tr>\n    <tr>\n      <th>833</th>\n      <td>POINT (-89.19748368578396 42.9824362117189)</td>\n      <td>20:0:00</td>\n      <td>search-result-0-1200!277</td>\n      <td>0.0</td>\n      <td>0.0</td>\n      <td>0.0</td>\n      <td>0.0</td>\n      <td>0.0</td>\n      <td>1256.0</td>\n      <td>0.372611</td>\n    </tr>\n  </tbody>\n</table>\n<p>834 rows × 10 columns</p>\n</div>"
     },
     "metadata": {},
     "execution_count": 3
    }
   ],
   "source": [
    "sc = SCanalyzer(\"../data/mmt_gtfs.zip\")\n",
    "config = Config(day=\"monday\", elapse_time=\"00:30:00\", interval=\"10:00:00\", max_walking_min=10) # run sim on Monday's schedule; run over a 30 min window for every hour; limit max walking to 10 min\n",
    "census_gdf = sc.load_census() # load the census data of the region\n",
    "config.set_starts(centroids=census_gdf) # set the starting points to be the centers of each census tracks\n",
    "result_gdf = sc.search(config) # run Sim\n",
    "services_gdf = sc.load_yelp(api_key=get_yelp_api_key()) # load service data from yelp\n",
    "sc.add_service_metrics(result_gdf, services_gdf) # combine Sim result with service data\n",
    "sc.add_demographic_metrics(result_gdf, census_gdf) # combine Sim result with census data\n",
    "result_gdf"
   ]
  },
  {
   "cell_type": "code",
   "execution_count": 4,
   "metadata": {},
   "outputs": [
    {
     "output_type": "execute_result",
     "data": {
      "text/plain": [
       "                                         geometry start_time  \\\n",
       "287  POINT (-89.43742096467113 43.02934177489417)    10:0:00   \n",
       "288  POINT (-89.40843688667083 43.05988040176729)    10:0:00   \n",
       "289   POINT (-89.39366773822951 43.0754185599703)    10:0:00   \n",
       "290  POINT (-89.38811120771256 43.14381292339061)    10:0:00   \n",
       "291  POINT (-89.38622626422388 43.07820878294773)    10:0:00   \n",
       "..                                            ...        ...   \n",
       "820  POINT (-89.35708405080736 43.04670969714362)    20:0:00   \n",
       "822  POINT (-89.34501637847924 43.09884323175058)    20:0:00   \n",
       "824   POINT (-89.33648264423933 43.0967663910675)    20:0:00   \n",
       "826   POINT (-89.32712297155682 43.1086703403175)    20:0:00   \n",
       "827    POINT (-89.29187673462269 43.113126021558)    20:0:00   \n",
       "\n",
       "               map_identifier  banks  clinics  dentists  hospitals  \\\n",
       "287     search-result-0-600!9    2.0      1.0       0.0        0.0   \n",
       "288    search-result-0-600!10   21.0     30.0       9.0       24.0   \n",
       "289    search-result-0-600!11   32.0     65.0      33.0       33.0   \n",
       "290    search-result-0-600!12    2.0      4.0       4.0        0.0   \n",
       "291    search-result-0-600!13   35.0     54.0      24.0       30.0   \n",
       "..                        ...    ...      ...       ...        ...   \n",
       "820  search-result-0-1200!264    7.0      2.0       1.0        1.0   \n",
       "822  search-result-0-1200!266   26.0     20.0       9.0        8.0   \n",
       "824  search-result-0-1200!268   14.0     17.0       9.0        3.0   \n",
       "826  search-result-0-1200!270   28.0     21.0      16.0        6.0   \n",
       "827  search-result-0-1200!271    3.0      1.0       0.0        0.0   \n",
       "\n",
       "     supermarket  Tot Pop  cars per capita  \n",
       "287          0.0    656.0         0.402439  \n",
       "288          7.0   1352.0         0.418639  \n",
       "289         14.0   1746.0         0.369416  \n",
       "290          0.0   1035.0         0.427053  \n",
       "291         12.0   1788.0         0.526286  \n",
       "..           ...      ...              ...  \n",
       "820          1.0    570.0         0.507018  \n",
       "822          7.0   2088.0         0.472222  \n",
       "824          3.0   1317.0         0.504935  \n",
       "826          5.0   1038.0         0.421002  \n",
       "827          1.0   3260.0         0.379448  \n",
       "\n",
       "[274 rows x 10 columns]"
      ],
      "text/html": "<div>\n<style scoped>\n    .dataframe tbody tr th:only-of-type {\n        vertical-align: middle;\n    }\n\n    .dataframe tbody tr th {\n        vertical-align: top;\n    }\n\n    .dataframe thead th {\n        text-align: right;\n    }\n</style>\n<table border=\"1\" class=\"dataframe\">\n  <thead>\n    <tr style=\"text-align: right;\">\n      <th></th>\n      <th>geometry</th>\n      <th>start_time</th>\n      <th>map_identifier</th>\n      <th>banks</th>\n      <th>clinics</th>\n      <th>dentists</th>\n      <th>hospitals</th>\n      <th>supermarket</th>\n      <th>Tot Pop</th>\n      <th>cars per capita</th>\n    </tr>\n  </thead>\n  <tbody>\n    <tr>\n      <th>287</th>\n      <td>POINT (-89.43742096467113 43.02934177489417)</td>\n      <td>10:0:00</td>\n      <td>search-result-0-600!9</td>\n      <td>2.0</td>\n      <td>1.0</td>\n      <td>0.0</td>\n      <td>0.0</td>\n      <td>0.0</td>\n      <td>656.0</td>\n      <td>0.402439</td>\n    </tr>\n    <tr>\n      <th>288</th>\n      <td>POINT (-89.40843688667083 43.05988040176729)</td>\n      <td>10:0:00</td>\n      <td>search-result-0-600!10</td>\n      <td>21.0</td>\n      <td>30.0</td>\n      <td>9.0</td>\n      <td>24.0</td>\n      <td>7.0</td>\n      <td>1352.0</td>\n      <td>0.418639</td>\n    </tr>\n    <tr>\n      <th>289</th>\n      <td>POINT (-89.39366773822951 43.0754185599703)</td>\n      <td>10:0:00</td>\n      <td>search-result-0-600!11</td>\n      <td>32.0</td>\n      <td>65.0</td>\n      <td>33.0</td>\n      <td>33.0</td>\n      <td>14.0</td>\n      <td>1746.0</td>\n      <td>0.369416</td>\n    </tr>\n    <tr>\n      <th>290</th>\n      <td>POINT (-89.38811120771256 43.14381292339061)</td>\n      <td>10:0:00</td>\n      <td>search-result-0-600!12</td>\n      <td>2.0</td>\n      <td>4.0</td>\n      <td>4.0</td>\n      <td>0.0</td>\n      <td>0.0</td>\n      <td>1035.0</td>\n      <td>0.427053</td>\n    </tr>\n    <tr>\n      <th>291</th>\n      <td>POINT (-89.38622626422388 43.07820878294773)</td>\n      <td>10:0:00</td>\n      <td>search-result-0-600!13</td>\n      <td>35.0</td>\n      <td>54.0</td>\n      <td>24.0</td>\n      <td>30.0</td>\n      <td>12.0</td>\n      <td>1788.0</td>\n      <td>0.526286</td>\n    </tr>\n    <tr>\n      <th>...</th>\n      <td>...</td>\n      <td>...</td>\n      <td>...</td>\n      <td>...</td>\n      <td>...</td>\n      <td>...</td>\n      <td>...</td>\n      <td>...</td>\n      <td>...</td>\n      <td>...</td>\n    </tr>\n    <tr>\n      <th>820</th>\n      <td>POINT (-89.35708405080736 43.04670969714362)</td>\n      <td>20:0:00</td>\n      <td>search-result-0-1200!264</td>\n      <td>7.0</td>\n      <td>2.0</td>\n      <td>1.0</td>\n      <td>1.0</td>\n      <td>1.0</td>\n      <td>570.0</td>\n      <td>0.507018</td>\n    </tr>\n    <tr>\n      <th>822</th>\n      <td>POINT (-89.34501637847924 43.09884323175058)</td>\n      <td>20:0:00</td>\n      <td>search-result-0-1200!266</td>\n      <td>26.0</td>\n      <td>20.0</td>\n      <td>9.0</td>\n      <td>8.0</td>\n      <td>7.0</td>\n      <td>2088.0</td>\n      <td>0.472222</td>\n    </tr>\n    <tr>\n      <th>824</th>\n      <td>POINT (-89.33648264423933 43.0967663910675)</td>\n      <td>20:0:00</td>\n      <td>search-result-0-1200!268</td>\n      <td>14.0</td>\n      <td>17.0</td>\n      <td>9.0</td>\n      <td>3.0</td>\n      <td>3.0</td>\n      <td>1317.0</td>\n      <td>0.504935</td>\n    </tr>\n    <tr>\n      <th>826</th>\n      <td>POINT (-89.32712297155682 43.1086703403175)</td>\n      <td>20:0:00</td>\n      <td>search-result-0-1200!270</td>\n      <td>28.0</td>\n      <td>21.0</td>\n      <td>16.0</td>\n      <td>6.0</td>\n      <td>5.0</td>\n      <td>1038.0</td>\n      <td>0.421002</td>\n    </tr>\n    <tr>\n      <th>827</th>\n      <td>POINT (-89.29187673462269 43.113126021558)</td>\n      <td>20:0:00</td>\n      <td>search-result-0-1200!271</td>\n      <td>3.0</td>\n      <td>1.0</td>\n      <td>0.0</td>\n      <td>0.0</td>\n      <td>1.0</td>\n      <td>3260.0</td>\n      <td>0.379448</td>\n    </tr>\n  </tbody>\n</table>\n<p>274 rows × 10 columns</p>\n</div>"
     },
     "metadata": {},
     "execution_count": 4
    }
   ],
   "source": [
    "result_gdf[result_gdf[\"banks\"] != 0]"
   ]
  },
  {
   "source": [
    "# route remove study"
   ],
   "cell_type": "markdown",
   "metadata": {}
  },
  {
   "cell_type": "code",
   "execution_count": null,
   "metadata": {},
   "outputs": [],
   "source": [
    "gtfo = Gtfo(\"../data/mmt_gtfs.zip\")\n",
    "census_gdf = gtfo.load_census()\n",
    "services_gdf = gtfo.load_yelp(api_key=get_yelp_api_key())\n",
    "\n",
    "routes = [ 2,  4,  5,  6,  7,  8, 10, 11, 12, 13, 15, 16, 17, 18, 20, 21, 22,\n",
    "       23, 26, 27, 30, 31, 32, 33, 36, 39, 40, 44, 48, 49, 50, 51, 52, 55,\n",
    "       67, 70, 72, 73, 75, 59, 63, 68, 78, 80, 84, 81, 82]\n",
    "for route in routes:\n",
    "    print(route)\n",
    "    gtfo.set_batch_label(f\"{route}-rm\")\n",
    "    config = Config(day=\"monday\", elapse_time=\"00:30:00\", interval=\"00:10:00\", max_walking_min=10, route_remove=[route])\n",
    "    config.set_starts(centroids=census_gdf)\n",
    "\n",
    "    perf_df = pd.DataFrame(\n",
    "            columns=[\"geometry\", \"start_time\", \"search_time\", \"add_service_time\", \"add_census_time\"])\n",
    "    result_gdf = gtfo.search(config, perf_df)\n",
    "    gtfo.add_service_metrics(result_gdf, services_gdf, perf_df)\n",
    "    gtfo.add_demographic_metrics(result_gdf, census_gdf, perf_df)\n",
    "    result_gdf.to_csv(f\"../out/result/result{route}.csv\", index=False)\n",
    "    perf_df.to_csv(f\"../out/perf/perf{route}.csv\", index=False)"
   ]
  },
  {
   "cell_type": "code",
   "execution_count": null,
   "metadata": {},
   "outputs": [],
   "source": [
    "perf = pd.read_csv(\"../out/perf/perf80.csv\")\n",
    "perf[\"search_time\"].sum(), perf[\"add_service_time\"].sum(), perf[\"add_census_time\"].sum(),"
   ]
  },
  {
   "cell_type": "code",
   "execution_count": 6,
   "metadata": {},
   "outputs": [
    {
     "output_type": "stream",
     "name": "stdout",
     "text": [
      "14.490088939666748\n",
      "6.0011491775512695\n",
      "3.6119019985198975\n"
     ]
    },
    {
     "output_type": "execute_result",
     "data": {
      "text/plain": [
       "4433.0"
      ]
     },
     "metadata": {},
     "execution_count": 6
    }
   ],
   "source": [
    "sc = SCanalyzer(\"../data/mmt_gtfs.zip\")\n",
    "census_gdf = sc.load_census()\n",
    "config = Config(day=\"monday\", elapse_time=\"00:30:00\", interval=\"10:00:00\", max_walking_min=10)\n",
    "# config.set_starts(points=[(43.073691, -89.387407), (43.073691, -89.387407)])\n",
    "config.set_starts(centroids=census_gdf)\n",
    "t0 = time.time()\n",
    "result_gdf = sc.search(config)\n",
    "t1 = time.time()\n",
    "print(t1-t0)\n",
    "\n",
    "services_gdf = sc.load_yelp(api_key=get_yelp_api_key())\n",
    "sc.add_service_metrics(result_gdf, services_gdf)\n",
    "t2 = time.time()\n",
    "print(t2-t1)\n",
    "\n",
    "sc.add_demographic_metrics(result_gdf, census_gdf) # SLOW\n",
    "t3 = time.time()\n",
    "print(t3-t2)\n",
    "result_gdf[\"banks\"].sum() #7263.0"
   ]
  },
  {
   "source": [
    "# Visualize simulation"
   ],
   "cell_type": "markdown",
   "metadata": {}
  },
  {
   "cell_type": "code",
   "execution_count": null,
   "metadata": {},
   "outputs": [],
   "source": [
    "gtfo = Gtfo(\"../data/mmt_gtfs.zip\")\n",
    "ax = plot_background()\n",
    "gtfo.set_batch_label(f\"80-rm\")\n",
    "example_gdf = gtfo.load_result_map(map_identifier=\"search-result-0-600!10\")\n",
    "example_gdf.plot(color=\"#ffbfba\", ax=ax)"
   ]
  },
  {
   "source": [
    "# AWS test"
   ],
   "cell_type": "markdown",
   "metadata": {}
  },
  {
   "cell_type": "code",
   "execution_count": 2,
   "metadata": {},
   "outputs": [
    {
     "output_type": "stream",
     "name": "stdout",
     "text": [
      "creating s3 bucket\n",
      "creating IAM role\n"
     ]
    }
   ],
   "source": [
    "from SCanalyzer.busSim.manager import managerFactory\n",
    "aws = managerFactory.create(\"aws\", gtfs_path=None, city_path=None, out_path=None)"
   ]
  },
  {
   "cell_type": "code",
   "execution_count": 3,
   "metadata": {},
   "outputs": [
    {
     "output_type": "stream",
     "name": "stdout",
     "text": [
      "cleaning up aws resources\n",
      "cleaning up s3\n",
      "cleaning up lambda\n"
     ]
    }
   ],
   "source": [
    "aws.clean_up()"
   ]
  },
  {
   "cell_type": "code",
   "execution_count": null,
   "metadata": {},
   "outputs": [],
   "source": [
    "import boto3\n",
    "aws_lambda = boto3.client('lambda', region_name='ap-northeast-1')\n",
    "with open(\"tmp.zip\", 'rb') as f:\n",
    "    response = aws_lambda.create_function(\n",
    "        Code={\n",
    "            'ZipFile': f.read()\n",
    "        },\n",
    "        Description='BusSim handler',\n",
    "        FunctionName=\"test\",\n",
    "        Handler='lambda_function.lambda_handler',\n",
    "        MemorySize=512,\n",
    "        Publish=True,\n",
    "        Role=\"arn:aws:iam::347664766527:role/s3rwRole\",\n",
    "        Runtime='python3.8',\n",
    "        Timeout=900,\n",
    "        TracingConfig={\n",
    "            'Mode': 'Active',\n",
    "        },\n",
    "    )"
   ]
  }
 ]
}