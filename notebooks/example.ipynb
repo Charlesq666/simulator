{
 "cells": [
  {
   "cell_type": "code",
   "execution_count": 5,
   "metadata": {},
   "outputs": [],
   "source": [
    "from pathlib import Path\n",
    "import sys\n",
    "import yaml\n",
    "import time\n",
    "\n",
    "import numpy as np\n",
    "import pandas as pd\n",
    "import geopandas as gpd\n",
    "import matplotlib.pyplot as plt\n",
    "\n",
    "DIR = Path('..')\n",
    "sys.path.append(str(DIR))\n",
    "from SCanalyzer import SCanalyzer\n",
    "from SCanalyzer.busSim import BusSim, Config\n",
    "from SCanalyzer.busSim.manager import managerFactory\n",
    "\n",
    "%matplotlib inline"
   ]
  },
  {
   "cell_type": "code",
   "execution_count": 2,
   "metadata": {},
   "outputs": [],
   "source": [
    "def get_yelp_api_key():\n",
    "    with open(\"../config.yml\", 'r') as yml:\n",
    "        cfg = yaml.safe_load(yml)\n",
    "        return cfg[\"yelp\"][\"api_key\"]\n",
    "\n",
    "def plot_background():\n",
    "    background_path = \"../data/plot/background/\"\n",
    "    city = gpd.read_file(background_path + \"madison-meter-shp\")\n",
    "    lakes = gpd.read_file(background_path + \"water-meter-shp\")\n",
    "    street = gpd.read_file(background_path + \"street-meter-shp\")\n",
    "    # city = gpd.read_file(background_path + \"madison-shp\")\n",
    "    # lakes = gpd.read_file(background_path + \"water-shp\")\n",
    "    # street = gpd.read_file(background_path + \"street-shp\")\n",
    "\n",
    "    ax = city.plot(color=\"lightgray\", alpha=.2, figsize=(12, 12), zorder=2)\n",
    "    lakes.plot(color=\"lightblue\", ax=ax, zorder=1, alpha=0.8)\n",
    "    street.plot(color=\"darkgray\", alpha = .5, ax=ax, zorder=3)\n",
    "    return ax"
   ]
  },
  {
   "cell_type": "markdown",
   "metadata": {},
   "source": [
    "# route remove study"
   ]
  },
  {
   "cell_type": "code",
   "execution_count": 3,
   "metadata": {},
   "outputs": [
    {
     "ename": "NameError",
     "evalue": "name 'Gtfo' is not defined",
     "output_type": "error",
     "traceback": [
      "\u001b[0;31m---------------------------------------------------------------------------\u001b[0m",
      "\u001b[0;31mNameError\u001b[0m                                 Traceback (most recent call last)",
      "\u001b[0;32m<ipython-input-3-12e1826a1751>\u001b[0m in \u001b[0;36m<module>\u001b[0;34m\u001b[0m\n\u001b[0;32m----> 1\u001b[0;31m \u001b[0mgtfo\u001b[0m \u001b[0;34m=\u001b[0m \u001b[0mGtfo\u001b[0m\u001b[0;34m(\u001b[0m\u001b[0;34m\"../data/mmt_gtfs.zip\"\u001b[0m\u001b[0;34m)\u001b[0m\u001b[0;34m\u001b[0m\u001b[0;34m\u001b[0m\u001b[0m\n\u001b[0m\u001b[1;32m      2\u001b[0m \u001b[0mcensus_gdf\u001b[0m \u001b[0;34m=\u001b[0m \u001b[0mgtfo\u001b[0m\u001b[0;34m.\u001b[0m\u001b[0mload_census\u001b[0m\u001b[0;34m(\u001b[0m\u001b[0;34m)\u001b[0m\u001b[0;34m\u001b[0m\u001b[0;34m\u001b[0m\u001b[0m\n\u001b[1;32m      3\u001b[0m \u001b[0mservices_gdf\u001b[0m \u001b[0;34m=\u001b[0m \u001b[0mgtfo\u001b[0m\u001b[0;34m.\u001b[0m\u001b[0mload_yelp\u001b[0m\u001b[0;34m(\u001b[0m\u001b[0mapi_key\u001b[0m\u001b[0;34m=\u001b[0m\u001b[0mget_yelp_api_key\u001b[0m\u001b[0;34m(\u001b[0m\u001b[0;34m)\u001b[0m\u001b[0;34m)\u001b[0m\u001b[0;34m\u001b[0m\u001b[0;34m\u001b[0m\u001b[0m\n\u001b[1;32m      4\u001b[0m \u001b[0;34m\u001b[0m\u001b[0m\n\u001b[1;32m      5\u001b[0m routes = [ 2,  4,  5,  6,  7,  8, 10, 11, 12, 13, 15, 16, 17, 18, 20, 21, 22,\n",
      "\u001b[0;31mNameError\u001b[0m: name 'Gtfo' is not defined"
     ]
    }
   ],
   "source": [
    "gtfo = Gtfo(\"../data/mmt_gtfs.zip\")\n",
    "census_gdf = gtfo.load_census()\n",
    "services_gdf = gtfo.load_yelp(api_key=get_yelp_api_key())\n",
    "\n",
    "routes = [ 2,  4,  5,  6,  7,  8, 10, 11, 12, 13, 15, 16, 17, 18, 20, 21, 22,\n",
    "       23, 26, 27, 30, 31, 32, 33, 36, 39, 40, 44, 48, 49, 50, 51, 52, 55,\n",
    "       67, 70, 72, 73, 75, 59, 63, 68, 78, 80, 84, 81, 82]\n",
    "for route in routes:\n",
    "    print(route)\n",
    "    gtfo.set_batch_label(f\"{route}-rm\")\n",
    "    config = Config(day=\"monday\", elapse_time=\"00:30:00\", interval=\"00:10:00\", max_walking_min=10, route_remove=[route])\n",
    "    config.set_starts(centroids=census_gdf)\n",
    "\n",
    "    perf_df = pd.DataFrame(\n",
    "            columns=[\"geometry\", \"start_time\", \"search_time\", \"add_service_time\", \"add_census_time\"])\n",
    "    result_gdf = gtfo.search(config, perf_df)\n",
    "    gtfo.add_service_metrics(result_gdf, services_gdf, perf_df)\n",
    "    gtfo.add_demographic_metrics(result_gdf, census_gdf, perf_df)\n",
    "    result_gdf.to_csv(f\"../out/result/result{route}.csv\", index=False)\n",
    "    perf_df.to_csv(f\"../out/perf/perf{route}.csv\", index=False)"
   ]
  },
  {
   "cell_type": "code",
   "execution_count": null,
   "metadata": {},
   "outputs": [],
   "source": [
    "perf = pd.read_csv(\"../out/perf/perf80.csv\")\n",
    "perf[\"search_time\"].sum(), perf[\"add_service_time\"].sum(), perf[\"add_census_time\"].sum(),"
   ]
  },
  {
   "cell_type": "code",
   "execution_count": null,
   "metadata": {},
   "outputs": [
    {
     "name": "stdout",
     "output_type": "stream",
     "text": [
      "14.490088939666748\n",
      "6.0011491775512695\n",
      "3.6119019985198975\n"
     ]
    },
    {
     "data": {
      "text/plain": [
       "4433.0"
      ]
     },
     "execution_count": 6,
     "metadata": {},
     "output_type": "execute_result"
    }
   ],
   "source": [
    "sc = SCanalyzer(\"../data/mmt_gtfs.zip\")\n",
    "census_gdf = sc.load_census()\n",
    "config = Config(day=\"monday\", elapse_time=\"00:30:00\", interval=\"10:00:00\", max_walking_min=10)\n",
    "# config.set_starts(points=[(43.073691, -89.387407), (43.073691, -89.387407)])\n",
    "config.set_starts(centroids=census_gdf)\n",
    "t0 = time.time()\n",
    "result_gdf = sc.search(config)\n",
    "t1 = time.time()\n",
    "print(t1-t0)\n",
    "\n",
    "services_gdf = sc.load_yelp(api_key=get_yelp_api_key())\n",
    "sc.add_service_metrics(result_gdf, services_gdf)\n",
    "t2 = time.time()\n",
    "print(t2-t1)\n",
    "\n",
    "sc.add_demographic_metrics(result_gdf, census_gdf) # SLOW\n",
    "t3 = time.time()\n",
    "print(t3-t2)\n",
    "result_gdf[\"banks\"].sum() #7263.0"
   ]
  },
  {
   "cell_type": "markdown",
   "metadata": {},
   "source": [
    "# Visualize simulation"
   ]
  },
  {
   "cell_type": "code",
   "execution_count": null,
   "metadata": {},
   "outputs": [],
   "source": [
    "gtfo = Gtfo(\"../data/mmt_gtfs.zip\")\n",
    "ax = plot_background()\n",
    "gtfo.set_batch_label(f\"80-rm\")\n",
    "example_gdf = gtfo.load_result_map(map_identifier=\"search-result-0-600!10\")\n",
    "example_gdf.plot(color=\"#ffbfba\", ax=ax)"
   ]
  },
  {
   "cell_type": "markdown",
   "metadata": {},
   "source": [
    "# AWS test"
   ]
  },
  {
   "cell_type": "code",
   "execution_count": 6,
   "metadata": {},
   "outputs": [],
   "source": [
    "from SCanalyzer.busSim.manager import managerFactory\n",
    "aws = managerFactory.create(\"aws\", gtfs_path=None, out_path=None, borders=None)"
   ]
  },
  {
   "cell_type": "code",
   "execution_count": null,
   "metadata": {},
   "outputs": [
    {
     "name": "stdout",
     "output_type": "stream",
     "text": [
      "{'repository': {'repositoryArn': 'arn:aws:ecr:ap-northeast-1:347664766527:repository/scanalyzer-lambda-handler', 'registryId': '347664766527', 'repositoryName': 'scanalyzer-lambda-handler', 'repositoryUri': '347664766527.dkr.ecr.ap-northeast-1.amazonaws.com/scanalyzer-lambda-handler', 'createdAt': datetime.datetime(2021, 6, 22, 22, 27, 10, tzinfo=tzlocal()), 'imageTagMutability': 'MUTABLE', 'imageScanningConfiguration': {'scanOnPush': False}, 'encryptionConfiguration': {'encryptionType': 'AES256'}}, 'ResponseMetadata': {'RequestId': '4416b639-eab1-4617-8ed5-136b907246d4', 'HTTPStatusCode': 200, 'HTTPHeaders': {'x-amzn-requestid': '4416b639-eab1-4617-8ed5-136b907246d4', 'date': 'Tue, 22 Jun 2021 14:27:09 GMT', 'content-type': 'application/x-amz-json-1.1', 'content-length': '438'}, 'RetryAttempts': 0}}\n"
     ]
    }
   ],
   "source": [
    "aws._create_repo()"
   ]
  },
  {
   "cell_type": "code",
   "execution_count": null,
   "metadata": {},
   "outputs": [
    {
     "data": {
      "text/plain": [
       "{'authorizationToken': 'QVdTOmV5SndZWGxzYjJGa0lqb2lSV1l2ZEhKV1ZGTnNkbFUxZDI5TFpXSktabk4yUmpGNFZXc3llRUppVVROYVoyVktWRzFxWnk5blIwTlRjM1ZPUjJST00ydG9PSEZwZEZnMVNUWjNkR3hpTmtkUE1YVnhibEJ5UkdoT1QyeEdTa2hJVmxWbWNuTTNZMlV5TDJrdk1rTkpVVGhHY1hWMGNqTnJXR05VZUZoSVoySnNka1JwUW1JeldHTnJWek4wYUVkdGFVOHZWa3RPWlcxU2RtVjNaRXBYZVVWWFRtZGxSbTV2YjBwSVVVbFdlbGN2UWpOcGJIVTBTVlY1UmtReVQwOHZlbXR1ZGtwSVYxVjZNRzVOTHpKbGFEbHpVQ3RhWkRBNVpIVmpRalZ6YjNrMVNtVklUalpCTTNKemFua3ZWRGhZUlRaMGNGZFhVbHAxWW1aUVRVNDVjM0pxWkhoTldFMWFibTV0YmpkNVJrcGpSRkI1S3pGQ1Rub3JZV3ByTldKclQyNW5LMk00SzJoTU5VcGpWRGxLYjB0aFFWaFhlSE4xY2pkREswMHhWRE0xTlROMk9XSlNXWFJVUVVSNlNXeGlMeXN3TkhOcGJTdEJZWEJ3T0U5blZsUmFOVkpaYzFSdGJUbDZhREJ2ZW01a2VtZHZaelJYTjNWdlluaDNVVmx2TTFkMlJFUTVjMHBYTldGU1JFVTVkVXcyVUV0bk5EUXdNRGxxWjIxdVIyWkpOblZFUVRod01WWlVNRzk0WmpKb2EydEVMMnN4VFVwTmJXUk9ORlJTTlZwclVIaFJTRkF3VkZGa2JVSllaSFlyUzBFd09EVk9jMm95UVdGTVNqaHBVR0psTjFKUVpIRnNVM2hEYzFvMFVreG9UREF4U25BM00wbHBWM2hRYzJoM0syOWtOM2RMUkdOVFpuQXZlSFF4VkZWS1RETXdiRzB4YlRGMWN6SXhUbnBNYlVSallWTXJNMDlRU21VeVpXMWFZVWR0VVVKSFoySjFNMlozS3pJMlYydENOa1V4Y1d0cGRYQjNORlZGUkd4UWFXeG9VVTk2WTNGbVdESTNTVXBvUmpSWGJHeE1abTVPZGtGUldGSTVRM0U0V1UxMUszZHNVVkU0VGs4clFrRXZURXBZYzBoMFJHRjNlQ3RFSzBsbE16ZFVaVEF2YzNseFpERTRUSGRPVDFoMU0yNXBhbFF3VlRSeVZGZG5VV3RyZEZwVFJVSnhaMkpPWWxkR1pHaDNiMmN6WlhaR2FXOVZkMVU0UTJ0NGExaFNielJZU25wUWNFdHFLMjFQV25WaVpWQnNkemRFUVhOT2NVbG5URWxPWjNCWWRVdERibmxNVDBWaWExQm5MemxpY21kNmRuSnpOM3BGTm1RM2JHTXhibXh1ZUVSWFN5czVNR05VWWxoVlFsVlRPSGRxZWxOS09HdHpZV1UyUTBrMU4zSnJlSFpTYmxVeVlsTnlhMHh6TkdNMlNtbHlZVUZGT1VoWFlqTjNkRTlUVmpCTGJXOXFlSEZuWVdZMlRIZFNlbUpNTmpSdldHeDNTM3BPV0dWWVN6VnJUa2swVjNrMWVFZHVTVUZ1ZUhBNGVIbHlVR2cxVFdabVNETndTelp5TTNKVlNuWjFNelZyZDA1TFNIRlJZVTl0VkdoWVkwY3lkbkphVW5aemRVbEllVk42ZVhoMllYcEJVa3d5T0ZGT1pFdExOR0ZyYnpFeVpteE5PSEpQVlZONlJIUTRaREZYVmpOVllraHhUbTlJYVV4b2MycFVSMmRUVkdwemVtZDVTVWgwYWpaSVQwRTFZMUJ5Wm1aRlVHOVRjM2R5Y0VNMFUxUkNVVXRqWjJWdVIxTjFaekJ5UmsxNlRWbElTMHRVUzFkamNGVmlUMkUzU3poelltUnBTMGRPYjNrM09HZHJZMlpSTDA5MFFqbG1hM0ZzU2pGeFF6ZFVka29yUVVkMU5VazVNVk5KUmpCTGR6SXhWRU16YWxFeVJqSnRJaXdpWkdGMFlXdGxlU0k2SWtGUlJVSkJTR2RCVFdaTFJHeEpiM0JETm5wek1HSk5aRkp5V1ZOSVlTOURNemxyUTNKalVEaHJWbkJ5UlRsbUsydFJRVUZCU0RSM1prRlpTa3R2V2tsb2RtTk9RVkZqUjI5SE9IZGlVVWxDUVVSQ2IwSm5hM0ZvYTJsSE9YY3dRa0ozUlhkSVoxbEtXVWxhU1VGWFZVUkNRVVYxVFVKRlJVUkxNMDh4VkZGV2VsQmlXbWxYZVdkcFVVbENSVWxCTnpZemREbHFWbE41VjI5NllVODNWVU13ZW1odWJHaFdUMmQyVFhVNGRWTTBjSE00U2pWNlpuWnBlR1l3TTNGTlkwbFdaamRNV2l0SmNETlNWMHgwVlhkVGVrSjNWVzlYU0ZwT2RWSjNkMk05SWl3aWRtVnljMmx2YmlJNklqSWlMQ0owZVhCbElqb2lSRUZVUVY5TFJWa2lMQ0psZUhCcGNtRjBhVzl1SWpveE5qSTBOREUxTXpJNGZRPT0=',\n",
       " 'expiresAt': datetime.datetime(2021, 6, 23, 10, 28, 48, 742000, tzinfo=tzlocal()),\n",
       " 'proxyEndpoint': 'https://347664766527.dkr.ecr.ap-northeast-1.amazonaws.com'}"
      ]
     },
     "execution_count": 5,
     "metadata": {},
     "output_type": "execute_result"
    }
   ],
   "source": [
    "aws._ecr.get_authorization_token()['authorizationData'][0]"
   ]
  },
  {
   "cell_type": "code",
   "execution_count": 7,
   "metadata": {},
   "outputs": [
    {
     "name": "stdout",
     "output_type": "stream",
     "text": [
      "cleaning up aws resources\n",
      "cleaning up s3\n"
     ]
    },
    {
     "ename": "AttributeError",
     "evalue": "'AWSManager' object has no attribute 'bucket_name'",
     "output_type": "error",
     "traceback": [
      "\u001b[0;31m---------------------------------------------------------------------------\u001b[0m",
      "\u001b[0;31mAttributeError\u001b[0m                            Traceback (most recent call last)",
      "\u001b[0;32m<ipython-input-7-e52143c8f565>\u001b[0m in \u001b[0;36m<module>\u001b[0;34m\u001b[0m\n\u001b[0;32m----> 1\u001b[0;31m \u001b[0maws\u001b[0m\u001b[0;34m.\u001b[0m\u001b[0mclean_up\u001b[0m\u001b[0;34m(\u001b[0m\u001b[0;34m)\u001b[0m\u001b[0;34m\u001b[0m\u001b[0;34m\u001b[0m\u001b[0m\n\u001b[0m",
      "\u001b[0;32m~/projects/simulator/SCanalyzer/busSim/manager/AWSManager.py\u001b[0m in \u001b[0;36mclean_up\u001b[0;34m(self)\u001b[0m\n\u001b[1;32m     52\u001b[0m     \u001b[0;32mdef\u001b[0m \u001b[0mclean_up\u001b[0m\u001b[0;34m(\u001b[0m\u001b[0mself\u001b[0m\u001b[0;34m)\u001b[0m\u001b[0;34m:\u001b[0m\u001b[0;34m\u001b[0m\u001b[0;34m\u001b[0m\u001b[0m\n\u001b[1;32m     53\u001b[0m         \u001b[0mprint\u001b[0m\u001b[0;34m(\u001b[0m\u001b[0;34m\"cleaning up aws resources\"\u001b[0m\u001b[0;34m)\u001b[0m\u001b[0;34m\u001b[0m\u001b[0;34m\u001b[0m\u001b[0m\n\u001b[0;32m---> 54\u001b[0;31m         \u001b[0mself\u001b[0m\u001b[0;34m.\u001b[0m\u001b[0m_clean_bucket\u001b[0m\u001b[0;34m(\u001b[0m\u001b[0;34m)\u001b[0m\u001b[0;34m\u001b[0m\u001b[0;34m\u001b[0m\u001b[0m\n\u001b[0m\u001b[1;32m     55\u001b[0m         \u001b[0mself\u001b[0m\u001b[0;34m.\u001b[0m\u001b[0m_clean_lambda\u001b[0m\u001b[0;34m(\u001b[0m\u001b[0;34m)\u001b[0m\u001b[0;34m\u001b[0m\u001b[0;34m\u001b[0m\u001b[0m\n\u001b[1;32m     56\u001b[0m \u001b[0;34m\u001b[0m\u001b[0m\n",
      "\u001b[0;32m~/projects/simulator/SCanalyzer/busSim/manager/AWSManager.py\u001b[0m in \u001b[0;36m_clean_bucket\u001b[0;34m(self)\u001b[0m\n\u001b[1;32m    183\u001b[0m         \u001b[0mprint\u001b[0m\u001b[0;34m(\u001b[0m\u001b[0;34m\"cleaning up s3\"\u001b[0m\u001b[0;34m)\u001b[0m\u001b[0;34m\u001b[0m\u001b[0;34m\u001b[0m\u001b[0m\n\u001b[1;32m    184\u001b[0m         self._s3.delete_bucket(\n\u001b[0;32m--> 185\u001b[0;31m             \u001b[0mBucket\u001b[0m\u001b[0;34m=\u001b[0m\u001b[0mself\u001b[0m\u001b[0;34m.\u001b[0m\u001b[0mbucket_name\u001b[0m\u001b[0;34m\u001b[0m\u001b[0;34m\u001b[0m\u001b[0m\n\u001b[0m\u001b[1;32m    186\u001b[0m         )\n\u001b[1;32m    187\u001b[0m \u001b[0;34m\u001b[0m\u001b[0m\n",
      "\u001b[0;31mAttributeError\u001b[0m: 'AWSManager' object has no attribute 'bucket_name'"
     ]
    }
   ],
   "source": [
    "aws.clean_up()"
   ]
  },
  {
   "cell_type": "code",
   "execution_count": null,
   "metadata": {},
   "outputs": [
    {
     "ename": "FileNotFoundError",
     "evalue": "[Errno 2] No such file or directory: 'tmp.zip'",
     "output_type": "error",
     "traceback": [
      "\u001b[0;31m---------------------------------------------------------------------------\u001b[0m",
      "\u001b[0;31mFileNotFoundError\u001b[0m                         Traceback (most recent call last)",
      "\u001b[0;32m<ipython-input-5-927e9372830a>\u001b[0m in \u001b[0;36m<module>\u001b[0;34m\u001b[0m\n\u001b[1;32m      1\u001b[0m \u001b[0;32mimport\u001b[0m \u001b[0mboto3\u001b[0m\u001b[0;34m\u001b[0m\u001b[0;34m\u001b[0m\u001b[0m\n\u001b[1;32m      2\u001b[0m \u001b[0maws_lambda\u001b[0m \u001b[0;34m=\u001b[0m \u001b[0mboto3\u001b[0m\u001b[0;34m.\u001b[0m\u001b[0mclient\u001b[0m\u001b[0;34m(\u001b[0m\u001b[0;34m'lambda'\u001b[0m\u001b[0;34m,\u001b[0m \u001b[0mregion_name\u001b[0m\u001b[0;34m=\u001b[0m\u001b[0;34m'ap-northeast-1'\u001b[0m\u001b[0;34m)\u001b[0m\u001b[0;34m\u001b[0m\u001b[0;34m\u001b[0m\u001b[0m\n\u001b[0;32m----> 3\u001b[0;31m \u001b[0;32mwith\u001b[0m \u001b[0mopen\u001b[0m\u001b[0;34m(\u001b[0m\u001b[0;34m\"tmp.zip\"\u001b[0m\u001b[0;34m,\u001b[0m \u001b[0;34m'rb'\u001b[0m\u001b[0;34m)\u001b[0m \u001b[0;32mas\u001b[0m \u001b[0mf\u001b[0m\u001b[0;34m:\u001b[0m\u001b[0;34m\u001b[0m\u001b[0;34m\u001b[0m\u001b[0m\n\u001b[0m\u001b[1;32m      4\u001b[0m     response = aws_lambda.create_function(\n\u001b[1;32m      5\u001b[0m         Code={\n",
      "\u001b[0;31mFileNotFoundError\u001b[0m: [Errno 2] No such file or directory: 'tmp.zip'"
     ]
    }
   ],
   "source": [
    "import boto3\n",
    "aws_lambda = boto3.client('lambda', region_name='ap-northeast-1')\n",
    "with open(\"tmp.zip\", 'rb') as f:\n",
    "    response = aws_lambda.create_function(\n",
    "        Code={\n",
    "            'ZipFile': f.read()\n",
    "        },\n",
    "        Description='BusSim handler',\n",
    "        FunctionName=\"test\",\n",
    "        Handler='lambda_function.lambda_handler',\n",
    "        MemorySize=512,\n",
    "        Publish=True,\n",
    "        Role=\"arn:aws:iam::347664766527:role/s3rwRole\",\n",
    "        Runtime='python3.8',\n",
    "        Timeout=900,\n",
    "        TracingConfig={\n",
    "            'Mode': 'Active',\n",
    "        },\n",
    "    )"
   ]
  },
  {
   "cell_type": "code",
   "execution_count": null,
   "metadata": {},
   "outputs": [],
   "source": []
  }
 ],
 "metadata": {
  "interpreter": {
   "hash": "f45353baabedbca07c2d1454818e606635303ac016660196bcc0753818af393e"
  },
  "kernelspec": {
   "display_name": "Python 3.8.5 64-bit ('venv': venv)",
   "name": "python3"
  },
  "language_info": {
   "codemirror_mode": {
    "name": "ipython",
    "version": 3
   },
   "file_extension": ".py",
   "mimetype": "text/x-python",
   "name": "python",
   "nbconvert_exporter": "python",
   "pygments_lexer": "ipython3",
   "version": "3.8.5"
  },
  "metadata": {
   "interpreter": {
    "hash": "948cbe787796f35d370cbb3c22a8b7539e249b2486888efe0038f57b4dd2dfbc"
   }
  },
  "orig_nbformat": 2
 },
 "nbformat": 4,
 "nbformat_minor": 2
}